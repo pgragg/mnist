{
 "cells": [
  {
   "cell_type": "code",
   "execution_count": 2,
   "metadata": {},
   "outputs": [
    {
     "name": "stderr",
     "output_type": "stream",
     "text": [
      "Using TensorFlow backend.\n"
     ]
    }
   ],
   "source": [
    "import keras\n",
    "import numpy as np\n",
    "import matplotlib as plt \n",
    "\n",
    "from keras.layers import Dense, Dropout, BatchNormalization, Convolution1D, Flatten, Lambda, Permute, MaxPooling1D, AlphaDropout\n",
    "from keras.models import Sequential\n",
    "from keras.utils import to_categorical\n",
    "import keras.backend as K"
   ]
  },
  {
   "cell_type": "code",
   "execution_count": 3,
   "metadata": {
    "collapsed": true
   },
   "outputs": [],
   "source": [
    "(a,b) = keras.datasets.mnist.load_data()"
   ]
  },
  {
   "cell_type": "code",
   "execution_count": 4,
   "metadata": {
    "collapsed": true
   },
   "outputs": [],
   "source": [
    "x_train = a[0]\n",
    "y_train = to_categorical(a[1])\n",
    "\n",
    "x_test = b[0]\n",
    "y_test = to_categorical(b[1])"
   ]
  },
  {
   "cell_type": "code",
   "execution_count": 5,
   "metadata": {},
   "outputs": [
    {
     "data": {
      "text/plain": [
       "(60000, 28, 28)"
      ]
     },
     "execution_count": 5,
     "metadata": {},
     "output_type": "execute_result"
    }
   ],
   "source": [
    "x_train.shape"
   ]
  },
  {
   "cell_type": "code",
   "execution_count": 165,
   "metadata": {
    "collapsed": true
   },
   "outputs": [],
   "source": [
    "m1 = Sequential([\n",
    "    Permute((2,1), input_shape=(28,28)),\n",
    "    BatchNormalization(),\n",
    "    Convolution1D(32, (3), activation='relu', padding='same'),\n",
    "    Dropout(0.1),\n",
    "    MaxPooling1D(2),\n",
    "    BatchNormalization(),\n",
    "    Convolution1D(64, (3), activation='relu', padding='same'),\n",
    "    Dropout(0.1),\n",
    "    MaxPooling1D(2),\n",
    "    Flatten(),\n",
    "    BatchNormalization(),\n",
    "    Dense(20, activation='relu'),\n",
    "    BatchNormalization(),\n",
    "    Dense(10, activation='softmax')   \n",
    "])\n",
    "\n",
    "m1.compile(optimizer='adam', loss='binary_crossentropy', metrics=['accuracy'])"
   ]
  },
  {
   "cell_type": "code",
   "execution_count": 166,
   "metadata": {},
   "outputs": [
    {
     "name": "stdout",
     "output_type": "stream",
     "text": [
      "Epoch 1/1\n",
      "60000/60000 [==============================] - 36s 598us/step - loss: 0.0527 - acc: 0.9823\n"
     ]
    },
    {
     "data": {
      "text/plain": [
       "<keras.callbacks.History at 0x12a303828>"
      ]
     },
     "execution_count": 166,
     "metadata": {},
     "output_type": "execute_result"
    }
   ],
   "source": [
    "m1.fit(x_train, y_train, epochs=10)"
   ]
  },
  {
   "cell_type": "code",
   "execution_count": null,
   "metadata": {
    "collapsed": true
   },
   "outputs": [],
   "source": [
    "m1.optimizer.lr = 0.00001"
   ]
  },
  {
   "cell_type": "code",
   "execution_count": 364,
   "metadata": {},
   "outputs": [
    {
     "name": "stdout",
     "output_type": "stream",
     "text": [
      "Epoch 1/10\n",
      "60000/60000 [==============================] - 33s 558us/step - loss: 0.0073 - acc: 0.9975\n",
      "Epoch 2/10\n",
      "60000/60000 [==============================] - 32s 536us/step - loss: 0.0071 - acc: 0.9975\n",
      "Epoch 3/10\n",
      "60000/60000 [==============================] - 37s 611us/step - loss: 0.0072 - acc: 0.9974\n",
      "Epoch 4/10\n",
      "60000/60000 [==============================] - 34s 565us/step - loss: 0.0069 - acc: 0.9975\n",
      "Epoch 5/10\n",
      "60000/60000 [==============================] - 29s 491us/step - loss: 0.0066 - acc: 0.9976\n",
      "Epoch 6/10\n",
      "60000/60000 [==============================] - 31s 510us/step - loss: 0.0064 - acc: 0.9978\n",
      "Epoch 7/10\n",
      "60000/60000 [==============================] - 27s 446us/step - loss: 0.0066 - acc: 0.9976\n",
      "Epoch 8/10\n",
      "60000/60000 [==============================] - 31s 516us/step - loss: 0.0066 - acc: 0.9977\n",
      "Epoch 9/10\n",
      "60000/60000 [==============================] - 28s 463us/step - loss: 0.0063 - acc: 0.9977\n",
      "Epoch 10/10\n",
      "60000/60000 [==============================] - 32s 532us/step - loss: 0.0064 - acc: 0.9978\n"
     ]
    },
    {
     "data": {
      "text/plain": [
       "<keras.callbacks.History at 0x16413def0>"
      ]
     },
     "execution_count": 364,
     "metadata": {},
     "output_type": "execute_result"
    }
   ],
   "source": [
    "m1.fit(x_train, y_train, epochs=10)"
   ]
  },
  {
   "cell_type": "code",
   "execution_count": 365,
   "metadata": {},
   "outputs": [
    {
     "name": "stdout",
     "output_type": "stream",
     "text": [
      "10000/10000 [==============================] - 2s 162us/step\n"
     ]
    },
    {
     "data": {
      "text/plain": [
       "[0.0078690886313561356, 0.99738999557495123]"
      ]
     },
     "execution_count": 365,
     "metadata": {},
     "output_type": "execute_result"
    }
   ],
   "source": [
    "m1.evaluate(x_test, y_test)\n"
   ]
  },
  {
   "cell_type": "code",
   "execution_count": 179,
   "metadata": {
    "collapsed": true
   },
   "outputs": [],
   "source": [
    "# from keras.models import load_model\n",
    "\n",
    "# m1.save_weights('m1_mnist_ensemble2.h5')"
   ]
  },
  {
   "cell_type": "code",
   "execution_count": 180,
   "metadata": {
    "collapsed": true
   },
   "outputs": [],
   "source": [
    "m2 = Sequential([\n",
    "    BatchNormalization(input_shape=(28,28)),\n",
    "    Convolution1D(32, (3), activation='relu', padding='same'),\n",
    "    Dropout(0.1),\n",
    "    MaxPooling1D(2),\n",
    "    BatchNormalization(),\n",
    "    Convolution1D(64, (3), activation='relu', padding='same'),\n",
    "    Dropout(0.1),\n",
    "    MaxPooling1D(2),\n",
    "    Flatten(),\n",
    "    BatchNormalization(),\n",
    "    Dense(20, activation='relu'),\n",
    "    BatchNormalization(),\n",
    "    Dense(10, activation='softmax')   \n",
    "])\n",
    "\n",
    "m2.compile(optimizer='adam', loss='binary_crossentropy', metrics=['accuracy'])"
   ]
  },
  {
   "cell_type": "code",
   "execution_count": 181,
   "metadata": {},
   "outputs": [
    {
     "name": "stdout",
     "output_type": "stream",
     "text": [
      "Epoch 1/10\n",
      "60000/60000 [==============================] - 33s 557us/step - loss: 0.0485 - acc: 0.9838\n",
      "Epoch 2/10\n",
      "60000/60000 [==============================] - 36s 595us/step - loss: 0.0184 - acc: 0.9938\n",
      "Epoch 3/10\n",
      "60000/60000 [==============================] - 32s 529us/step - loss: 0.0146 - acc: 0.9950\n",
      "Epoch 4/10\n",
      "60000/60000 [==============================] - 36s 596us/step - loss: 0.0123 - acc: 0.9958\n",
      "Epoch 5/10\n",
      "60000/60000 [==============================] - 31s 521us/step - loss: 0.0114 - acc: 0.9961\n",
      "Epoch 6/10\n",
      "60000/60000 [==============================] - 34s 569us/step - loss: 0.0103 - acc: 0.9965\n",
      "Epoch 7/10\n",
      "60000/60000 [==============================] - 35s 588us/step - loss: 0.0095 - acc: 0.9967\n",
      "Epoch 8/10\n",
      "60000/60000 [==============================] - 36s 599us/step - loss: 0.0091 - acc: 0.9969\n",
      "Epoch 9/10\n",
      "60000/60000 [==============================] - 35s 582us/step - loss: 0.0086 - acc: 0.9972\n",
      "Epoch 10/10\n",
      "60000/60000 [==============================] - 35s 579us/step - loss: 0.0084 - acc: 0.9971\n",
      "Epoch 1/10\n",
      "60000/60000 [==============================] - 36s 604us/step - loss: 0.0080 - acc: 0.9972\n",
      "Epoch 2/10\n",
      "60000/60000 [==============================] - 32s 526us/step - loss: 0.0070 - acc: 0.9976\n",
      "Epoch 3/10\n",
      "60000/60000 [==============================] - 37s 609us/step - loss: 0.0073 - acc: 0.9974\n",
      "Epoch 4/10\n",
      "60000/60000 [==============================] - 34s 569us/step - loss: 0.0069 - acc: 0.99761s - loss: 0\n",
      "Epoch 5/10\n",
      "60000/60000 [==============================] - 30s 501us/step - loss: 0.0068 - acc: 0.9976\n",
      "Epoch 6/10\n",
      "60000/60000 [==============================] - 33s 542us/step - loss: 0.0065 - acc: 0.9977\n",
      "Epoch 7/10\n",
      "60000/60000 [==============================] - 32s 527us/step - loss: 0.0065 - acc: 0.9978\n",
      "Epoch 8/10\n",
      "60000/60000 [==============================] - 31s 518us/step - loss: 0.0061 - acc: 0.9979\n",
      "Epoch 9/10\n",
      "60000/60000 [==============================] - 30s 501us/step - loss: 0.0058 - acc: 0.9980\n",
      "Epoch 10/10\n",
      "60000/60000 [==============================] - 34s 563us/step - loss: 0.0059 - acc: 0.9980\n",
      "10000/10000 [==============================] - ETA:  - 2s 211us/step\n"
     ]
    },
    {
     "data": {
      "text/plain": [
       "[0.0067760217707051196, 0.99789999694824216]"
      ]
     },
     "execution_count": 181,
     "metadata": {},
     "output_type": "execute_result"
    }
   ],
   "source": [
    "m2.fit(x_train, y_train, epochs=10)\n",
    "m2.optimizer.lr = 0.00001\n",
    "m2.fit(x_train, y_train, epochs=10)\n",
    "m2.evaluate(x_test, y_test)"
   ]
  },
  {
   "cell_type": "markdown",
   "metadata": {},
   "source": [
    "## Create ensemble data"
   ]
  },
  {
   "cell_type": "code",
   "execution_count": 245,
   "metadata": {
    "collapsed": true
   },
   "outputs": [],
   "source": [
    "# Training\n",
    "m1_pred = m1.predict(x_train)\n",
    "m2_pred = m2.predict(x_train)\n",
    "ens_data = np.array([m1_pred, m2_pred])\n",
    "ens_data = np.swapaxes(ens_data, 0, 1)\n",
    "ens_data = np.swapaxes(ens_data, 1, 2)\n",
    "\n",
    "# Testing\n",
    "test_m1_pred = m1.predict(x_test)\n",
    "test_m2_pred = m2.predict(x_test)\n",
    "test_ens_data = np.array([test_m1_pred, test_m2_pred])\n",
    "test_ens_data = np.swapaxes(test_ens_data, 0, 1)\n",
    "test_ens_data = np.swapaxes(test_ens_data, 1, 2)"
   ]
  },
  {
   "cell_type": "code",
   "execution_count": 323,
   "metadata": {},
   "outputs": [
    {
     "name": "stdout",
     "output_type": "stream",
     "text": [
      "(10000, 10, 2)\n",
      "(60000, 10, 2)\n"
     ]
    }
   ],
   "source": [
    "print(test_ens_data.shape)\n",
    "print(ens_data.shape)\n",
    "ens_data = np.round(ens_data)\n",
    "test_ens_data = np.round(test_ens_data)"
   ]
  },
  {
   "cell_type": "code",
   "execution_count": 355,
   "metadata": {},
   "outputs": [
    {
     "name": "stdout",
     "output_type": "stream",
     "text": [
      "10000/10000 [==============================] - 2s 216us/step\n",
      "[0.0073353876278793905, 0.99753999576568608]\n",
      "10000/10000 [==============================] - 2s 209us/step\n",
      "[0.0067760217707051196, 0.99789999694824216]\n"
     ]
    }
   ],
   "source": [
    "print(m1.evaluate(x_test, y_test))\n",
    "print(m2.evaluate(x_test, y_test))"
   ]
  },
  {
   "cell_type": "markdown",
   "metadata": {},
   "source": [
    "## Create ensemble model"
   ]
  },
  {
   "cell_type": "code",
   "execution_count": 362,
   "metadata": {
    "collapsed": true
   },
   "outputs": [],
   "source": [
    "e1 = Sequential([\n",
    "    Flatten(input_shape=(10,2)),\n",
    "    AlphaDropout(0.8),\n",
    "    Dense(10, activation='softmax'),\n",
    "])\n",
    "\n",
    "e1.compile(optimizer='adam', loss='categorical_crossentropy', metrics=['accuracy'])\n"
   ]
  },
  {
   "cell_type": "markdown",
   "metadata": {},
   "source": [
    "## Train ensemble model"
   ]
  },
  {
   "cell_type": "code",
   "execution_count": 363,
   "metadata": {},
   "outputs": [
    {
     "name": "stdout",
     "output_type": "stream",
     "text": [
      "Train on 60000 samples, validate on 10000 samples\n",
      "Epoch 1/4\n",
      "60000/60000 [==============================] - 12s 204us/step - loss: 2.3394 - acc: 0.1783 - val_loss: 1.8929 - val_acc: 0.9891\n",
      "Epoch 2/4\n",
      "60000/60000 [==============================] - 7s 109us/step - loss: 2.2477 - acc: 0.2598 - val_loss: 1.8643 - val_acc: 0.9895\n",
      "Epoch 3/4\n",
      "60000/60000 [==============================] - 6s 104us/step - loss: 2.2495 - acc: 0.2551 - val_loss: 1.8803 - val_acc: 0.9879\n",
      "Epoch 4/4\n",
      "36416/60000 [=================>............] - ETA: 3s - loss: 2.2490 - acc: 0.2555"
     ]
    },
    {
     "ename": "KeyboardInterrupt",
     "evalue": "",
     "output_type": "error",
     "traceback": [
      "\u001b[0;31m---------------------------------------------------------------------------\u001b[0m",
      "\u001b[0;31mKeyboardInterrupt\u001b[0m                         Traceback (most recent call last)",
      "\u001b[0;32m<ipython-input-363-c2427e85e929>\u001b[0m in \u001b[0;36m<module>\u001b[0;34m()\u001b[0m\n\u001b[0;32m----> 1\u001b[0;31m \u001b[0me1\u001b[0m\u001b[0;34m.\u001b[0m\u001b[0mfit\u001b[0m\u001b[0;34m(\u001b[0m\u001b[0mens_data\u001b[0m\u001b[0;34m,\u001b[0m \u001b[0my_train\u001b[0m\u001b[0;34m,\u001b[0m\u001b[0mepochs\u001b[0m\u001b[0;34m=\u001b[0m\u001b[0;36m4\u001b[0m\u001b[0;34m,\u001b[0m \u001b[0mvalidation_data\u001b[0m\u001b[0;34m=\u001b[0m\u001b[0;34m(\u001b[0m\u001b[0mtest_ens_data\u001b[0m\u001b[0;34m,\u001b[0m \u001b[0my_test\u001b[0m\u001b[0;34m)\u001b[0m\u001b[0;34m)\u001b[0m\u001b[0;34m\u001b[0m\u001b[0m\n\u001b[0m\u001b[1;32m      2\u001b[0m \u001b[0me1\u001b[0m\u001b[0;34m.\u001b[0m\u001b[0moptimizer\u001b[0m\u001b[0;34m.\u001b[0m\u001b[0mlr\u001b[0m \u001b[0;34m=\u001b[0m \u001b[0;36m0.00001\u001b[0m\u001b[0;34m\u001b[0m\u001b[0m\n\u001b[1;32m      3\u001b[0m \u001b[0me1\u001b[0m\u001b[0;34m.\u001b[0m\u001b[0mfit\u001b[0m\u001b[0;34m(\u001b[0m\u001b[0mens_data\u001b[0m\u001b[0;34m,\u001b[0m \u001b[0my_train\u001b[0m\u001b[0;34m,\u001b[0m\u001b[0mepochs\u001b[0m\u001b[0;34m=\u001b[0m\u001b[0;36m10\u001b[0m\u001b[0;34m,\u001b[0m \u001b[0mvalidation_data\u001b[0m\u001b[0;34m=\u001b[0m\u001b[0;34m(\u001b[0m\u001b[0mtest_ens_data\u001b[0m\u001b[0;34m,\u001b[0m \u001b[0my_test\u001b[0m\u001b[0;34m)\u001b[0m\u001b[0;34m)\u001b[0m\u001b[0;34m\u001b[0m\u001b[0m\n",
      "\u001b[0;32m~/anaconda3/lib/python3.6/site-packages/keras/models.py\u001b[0m in \u001b[0;36mfit\u001b[0;34m(self, x, y, batch_size, epochs, verbose, callbacks, validation_split, validation_data, shuffle, class_weight, sample_weight, initial_epoch, steps_per_epoch, validation_steps, **kwargs)\u001b[0m\n\u001b[1;32m    958\u001b[0m                               \u001b[0minitial_epoch\u001b[0m\u001b[0;34m=\u001b[0m\u001b[0minitial_epoch\u001b[0m\u001b[0;34m,\u001b[0m\u001b[0;34m\u001b[0m\u001b[0m\n\u001b[1;32m    959\u001b[0m                               \u001b[0msteps_per_epoch\u001b[0m\u001b[0;34m=\u001b[0m\u001b[0msteps_per_epoch\u001b[0m\u001b[0;34m,\u001b[0m\u001b[0;34m\u001b[0m\u001b[0m\n\u001b[0;32m--> 960\u001b[0;31m                               validation_steps=validation_steps)\n\u001b[0m\u001b[1;32m    961\u001b[0m \u001b[0;34m\u001b[0m\u001b[0m\n\u001b[1;32m    962\u001b[0m     def evaluate(self, x, y, batch_size=32, verbose=1,\n",
      "\u001b[0;32m~/anaconda3/lib/python3.6/site-packages/keras/engine/training.py\u001b[0m in \u001b[0;36mfit\u001b[0;34m(self, x, y, batch_size, epochs, verbose, callbacks, validation_split, validation_data, shuffle, class_weight, sample_weight, initial_epoch, steps_per_epoch, validation_steps, **kwargs)\u001b[0m\n\u001b[1;32m   1655\u001b[0m                               \u001b[0minitial_epoch\u001b[0m\u001b[0;34m=\u001b[0m\u001b[0minitial_epoch\u001b[0m\u001b[0;34m,\u001b[0m\u001b[0;34m\u001b[0m\u001b[0m\n\u001b[1;32m   1656\u001b[0m                               \u001b[0msteps_per_epoch\u001b[0m\u001b[0;34m=\u001b[0m\u001b[0msteps_per_epoch\u001b[0m\u001b[0;34m,\u001b[0m\u001b[0;34m\u001b[0m\u001b[0m\n\u001b[0;32m-> 1657\u001b[0;31m                               validation_steps=validation_steps)\n\u001b[0m\u001b[1;32m   1658\u001b[0m \u001b[0;34m\u001b[0m\u001b[0m\n\u001b[1;32m   1659\u001b[0m     def evaluate(self, x=None, y=None,\n",
      "\u001b[0;32m~/anaconda3/lib/python3.6/site-packages/keras/engine/training.py\u001b[0m in \u001b[0;36m_fit_loop\u001b[0;34m(self, f, ins, out_labels, batch_size, epochs, verbose, callbacks, val_f, val_ins, shuffle, callback_metrics, initial_epoch, steps_per_epoch, validation_steps)\u001b[0m\n\u001b[1;32m   1211\u001b[0m                     \u001b[0mbatch_logs\u001b[0m\u001b[0;34m[\u001b[0m\u001b[0;34m'size'\u001b[0m\u001b[0;34m]\u001b[0m \u001b[0;34m=\u001b[0m \u001b[0mlen\u001b[0m\u001b[0;34m(\u001b[0m\u001b[0mbatch_ids\u001b[0m\u001b[0;34m)\u001b[0m\u001b[0;34m\u001b[0m\u001b[0m\n\u001b[1;32m   1212\u001b[0m                     \u001b[0mcallbacks\u001b[0m\u001b[0;34m.\u001b[0m\u001b[0mon_batch_begin\u001b[0m\u001b[0;34m(\u001b[0m\u001b[0mbatch_index\u001b[0m\u001b[0;34m,\u001b[0m \u001b[0mbatch_logs\u001b[0m\u001b[0;34m)\u001b[0m\u001b[0;34m\u001b[0m\u001b[0m\n\u001b[0;32m-> 1213\u001b[0;31m                     \u001b[0mouts\u001b[0m \u001b[0;34m=\u001b[0m \u001b[0mf\u001b[0m\u001b[0;34m(\u001b[0m\u001b[0mins_batch\u001b[0m\u001b[0;34m)\u001b[0m\u001b[0;34m\u001b[0m\u001b[0m\n\u001b[0m\u001b[1;32m   1214\u001b[0m                     \u001b[0;32mif\u001b[0m \u001b[0;32mnot\u001b[0m \u001b[0misinstance\u001b[0m\u001b[0;34m(\u001b[0m\u001b[0mouts\u001b[0m\u001b[0;34m,\u001b[0m \u001b[0mlist\u001b[0m\u001b[0;34m)\u001b[0m\u001b[0;34m:\u001b[0m\u001b[0;34m\u001b[0m\u001b[0m\n\u001b[1;32m   1215\u001b[0m                         \u001b[0mouts\u001b[0m \u001b[0;34m=\u001b[0m \u001b[0;34m[\u001b[0m\u001b[0mouts\u001b[0m\u001b[0;34m]\u001b[0m\u001b[0;34m\u001b[0m\u001b[0m\n",
      "\u001b[0;32m~/anaconda3/lib/python3.6/site-packages/keras/backend/tensorflow_backend.py\u001b[0m in \u001b[0;36m__call__\u001b[0;34m(self, inputs)\u001b[0m\n\u001b[1;32m   2353\u001b[0m             \u001b[0mfeed_dict\u001b[0m\u001b[0;34m[\u001b[0m\u001b[0mtensor\u001b[0m\u001b[0;34m]\u001b[0m \u001b[0;34m=\u001b[0m \u001b[0mvalue\u001b[0m\u001b[0;34m\u001b[0m\u001b[0m\n\u001b[1;32m   2354\u001b[0m         \u001b[0mfetches\u001b[0m \u001b[0;34m=\u001b[0m \u001b[0mself\u001b[0m\u001b[0;34m.\u001b[0m\u001b[0moutputs\u001b[0m \u001b[0;34m+\u001b[0m \u001b[0;34m[\u001b[0m\u001b[0mself\u001b[0m\u001b[0;34m.\u001b[0m\u001b[0mupdates_op\u001b[0m\u001b[0;34m]\u001b[0m \u001b[0;34m+\u001b[0m \u001b[0mself\u001b[0m\u001b[0;34m.\u001b[0m\u001b[0mfetches\u001b[0m\u001b[0;34m\u001b[0m\u001b[0m\n\u001b[0;32m-> 2355\u001b[0;31m         \u001b[0msession\u001b[0m \u001b[0;34m=\u001b[0m \u001b[0mget_session\u001b[0m\u001b[0;34m(\u001b[0m\u001b[0;34m)\u001b[0m\u001b[0;34m\u001b[0m\u001b[0m\n\u001b[0m\u001b[1;32m   2356\u001b[0m         updated = session.run(fetches=fetches, feed_dict=feed_dict,\n\u001b[1;32m   2357\u001b[0m                               **self.session_kwargs)\n",
      "\u001b[0;32m~/anaconda3/lib/python3.6/site-packages/keras/backend/tensorflow_backend.py\u001b[0m in \u001b[0;36mget_session\u001b[0;34m()\u001b[0m\n\u001b[1;32m    174\u001b[0m             \u001b[0mcandidate_vars\u001b[0m \u001b[0;34m=\u001b[0m \u001b[0;34m[\u001b[0m\u001b[0;34m]\u001b[0m\u001b[0;34m\u001b[0m\u001b[0m\n\u001b[1;32m    175\u001b[0m             \u001b[0;32mfor\u001b[0m \u001b[0mv\u001b[0m \u001b[0;32min\u001b[0m \u001b[0mvariables\u001b[0m\u001b[0;34m:\u001b[0m\u001b[0;34m\u001b[0m\u001b[0m\n\u001b[0;32m--> 176\u001b[0;31m                 \u001b[0;32mif\u001b[0m \u001b[0;32mnot\u001b[0m \u001b[0mgetattr\u001b[0m\u001b[0;34m(\u001b[0m\u001b[0mv\u001b[0m\u001b[0;34m,\u001b[0m \u001b[0;34m'_keras_initialized'\u001b[0m\u001b[0;34m,\u001b[0m \u001b[0;32mFalse\u001b[0m\u001b[0;34m)\u001b[0m\u001b[0;34m:\u001b[0m\u001b[0;34m\u001b[0m\u001b[0m\n\u001b[0m\u001b[1;32m    177\u001b[0m                     \u001b[0mcandidate_vars\u001b[0m\u001b[0;34m.\u001b[0m\u001b[0mappend\u001b[0m\u001b[0;34m(\u001b[0m\u001b[0mv\u001b[0m\u001b[0;34m)\u001b[0m\u001b[0;34m\u001b[0m\u001b[0m\n\u001b[1;32m    178\u001b[0m             \u001b[0;32mif\u001b[0m \u001b[0mcandidate_vars\u001b[0m\u001b[0;34m:\u001b[0m\u001b[0;34m\u001b[0m\u001b[0m\n",
      "\u001b[0;31mKeyboardInterrupt\u001b[0m: "
     ]
    }
   ],
   "source": [
    "e1.fit(ens_data, y_train,epochs=4, validation_data=(test_ens_data, y_test))\n",
    "e1.optimizer.lr = 0.00001\n",
    "e1.fit(ens_data, y_train,epochs=10, validation_data=(test_ens_data, y_test))\n"
   ]
  },
  {
   "cell_type": "code",
   "execution_count": 351,
   "metadata": {},
   "outputs": [
    {
     "name": "stdout",
     "output_type": "stream",
     "text": [
      "10000/10000 [==============================] - 1s 61us/step\n"
     ]
    },
    {
     "data": {
      "text/plain": [
       "[0.12752548183202744, 0.98909999999999998]"
      ]
     },
     "execution_count": 351,
     "metadata": {},
     "output_type": "execute_result"
    }
   ],
   "source": [
    "e1.evaluate(test_ens_data, y_test)"
   ]
  },
  {
   "cell_type": "code",
   "execution_count": 282,
   "metadata": {},
   "outputs": [
    {
     "name": "stdout",
     "output_type": "stream",
     "text": [
      "10000/10000 [==============================] - 2s 218us/step\n"
     ]
    },
    {
     "data": {
      "text/plain": [
       "[0.0073353876278793905, 0.99753999576568608]"
      ]
     },
     "execution_count": 282,
     "metadata": {},
     "output_type": "execute_result"
    }
   ],
   "source": []
  },
  {
   "cell_type": "code",
   "execution_count": 283,
   "metadata": {},
   "outputs": [
    {
     "name": "stdout",
     "output_type": "stream",
     "text": [
      "10000/10000 [==============================] - 2s 196us/step\n"
     ]
    },
    {
     "data": {
      "text/plain": [
       "[0.0067760217707051196, 0.99789999694824216]"
      ]
     },
     "execution_count": 283,
     "metadata": {},
     "output_type": "execute_result"
    }
   ],
   "source": []
  },
  {
   "cell_type": "code",
   "execution_count": null,
   "metadata": {
    "collapsed": true
   },
   "outputs": [],
   "source": []
  }
 ],
 "metadata": {
  "kernelspec": {
   "display_name": "Python 3",
   "language": "python",
   "name": "python3"
  },
  "language_info": {
   "codemirror_mode": {
    "name": "ipython",
    "version": 3
   },
   "file_extension": ".py",
   "mimetype": "text/x-python",
   "name": "python",
   "nbconvert_exporter": "python",
   "pygments_lexer": "ipython3",
   "version": "3.6.3"
  }
 },
 "nbformat": 4,
 "nbformat_minor": 2
}
