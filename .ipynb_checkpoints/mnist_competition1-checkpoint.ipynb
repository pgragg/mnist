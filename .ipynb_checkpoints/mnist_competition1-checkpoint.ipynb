{
 "cells": [
  {
   "cell_type": "code",
   "execution_count": 152,
   "metadata": {},
   "outputs": [],
   "source": [
    "import keras\n",
    "import numpy as np\n",
    "import matplotlib as plt \n",
    "import pandas as pd\n",
    "\n",
    "from keras.layers import Dense, Dropout, RepeatVector, BatchNormalization, Convolution1D, Flatten, Lambda, Permute, MaxPooling1D, AlphaDropout\n",
    "from keras.models import Sequential\n",
    "from keras.utils import to_categorical\n",
    "import keras.backend as K\n",
    "from sklearn.model_selection import train_test_split\n",
    "from keras.models import load_model"
   ]
  },
  {
   "cell_type": "code",
   "execution_count": 3,
   "metadata": {},
   "outputs": [
    {
     "data": {
      "text/plain": [
       "(42000, 28, 28)"
      ]
     },
     "execution_count": 3,
     "metadata": {},
     "output_type": "execute_result"
    }
   ],
   "source": [
    "train_df = pd.read_csv('train.csv')\n",
    "train_df.head\n",
    "t = train_df\n",
    "full_training_labels = to_categorical(np.array(t['label']))\n",
    "full_training_set = np.array(t.drop(['label'], axis=1))\n",
    "full_training_set = full_training_set.reshape(full_training_set.shape[0], 28, 28)\n",
    "\n",
    "full_training_set.shape"
   ]
  },
  {
   "cell_type": "code",
   "execution_count": 55,
   "metadata": {},
   "outputs": [],
   "source": [
    "X_train, X_validate, y_train, y_validate = train_test_split(full_training_set, full_training_labels, test_size=0.33, random_state=42)"
   ]
  },
  {
   "cell_type": "code",
   "execution_count": 5,
   "metadata": {},
   "outputs": [
    {
     "data": {
      "text/plain": [
       "(28000, 28, 28)"
      ]
     },
     "execution_count": 5,
     "metadata": {},
     "output_type": "execute_result"
    }
   ],
   "source": [
    "test_df = pd.read_csv('test.csv')\n",
    "\n",
    "x_test = np.array(test_df)\n",
    "x_test = x_test.reshape(x_test.shape[0], 28, 28)\n",
    "\n",
    "x_test.shape"
   ]
  },
  {
   "cell_type": "code",
   "execution_count": 193,
   "metadata": {
    "collapsed": true
   },
   "outputs": [],
   "source": [
    "m1 = Sequential([\n",
    "    Permute((2,1), input_shape=(28,28)),\n",
    "    BatchNormalization(),\n",
    "    Convolution1D(32, (3), activation='relu', padding='same'),\n",
    "    Dropout(0.1),\n",
    "    MaxPooling1D(2),\n",
    "    BatchNormalization(),\n",
    "    Convolution1D(64, (3), activation='relu', padding='same'),\n",
    "    Dropout(0.1),\n",
    "    MaxPooling1D(2),\n",
    "    Flatten(),\n",
    "    BatchNormalization(),\n",
    "    Dense(20, activation='relu'),\n",
    "    BatchNormalization(),\n",
    "    Dense(10, activation='softmax')   \n",
    "])\n",
    "\n",
    "m1.compile(optimizer='adam', loss='binary_crossentropy', metrics=['accuracy'])"
   ]
  },
  {
   "cell_type": "code",
   "execution_count": 194,
   "metadata": {
    "collapsed": true
   },
   "outputs": [],
   "source": [
    "# m1.save_weights('m1_mnist_ensemble2.h5')\n",
    "m1.load_weights('m1_mnist_ensemble2.h5')"
   ]
  },
  {
   "cell_type": "code",
   "execution_count": 57,
   "metadata": {},
   "outputs": [
    {
     "name": "stdout",
     "output_type": "stream",
     "text": [
      "28140/28140 [==============================] - 5s 190us/step\n"
     ]
    },
    {
     "data": {
      "text/plain": [
       "[0.0036899096275523884, 0.99886993246885081]"
      ]
     },
     "execution_count": 57,
     "metadata": {},
     "output_type": "execute_result"
    }
   ],
   "source": [
    "m1.evaluate(X_train, y_train)"
   ]
  },
  {
   "cell_type": "code",
   "execution_count": null,
   "metadata": {},
   "outputs": [],
   "source": []
  },
  {
   "cell_type": "code",
   "execution_count": null,
   "metadata": {},
   "outputs": [],
   "source": []
  },
  {
   "cell_type": "code",
   "execution_count": 137,
   "metadata": {},
   "outputs": [],
   "source": [
    "m2 = Sequential([\n",
    "    Permute((1,2), input_shape=(28,28)),\n",
    "    BatchNormalization(),\n",
    "    Convolution1D(32, (3), activation='relu', padding='same'),\n",
    "    Dropout(0.1),\n",
    "    MaxPooling1D(2),\n",
    "    BatchNormalization(),\n",
    "    Convolution1D(64, (3), activation='relu', padding='same'),\n",
    "    Dropout(0.1),\n",
    "    MaxPooling1D(2),\n",
    "    Flatten(),\n",
    "    BatchNormalization(),\n",
    "    Dense(20, activation='relu'),\n",
    "    BatchNormalization(),\n",
    "    Dense(10, activation='softmax')   \n",
    "])\n",
    "\n",
    "m2.compile(optimizer='adam', loss='binary_crossentropy', metrics=['accuracy'])"
   ]
  },
  {
   "cell_type": "code",
   "execution_count": 138,
   "metadata": {},
   "outputs": [
    {
     "name": "stdout",
     "output_type": "stream",
     "text": [
      "Train on 28140 samples, validate on 13860 samples\n",
      "Epoch 1/1\n",
      "16832/28140 [================>.............] - ETA: 6s - loss: 0.0975 - acc: 0.9669"
     ]
    },
    {
     "ename": "KeyboardInterrupt",
     "evalue": "",
     "output_type": "error",
     "traceback": [
      "\u001b[0;31m---------------------------------------------------------------------------\u001b[0m",
      "\u001b[0;31mKeyboardInterrupt\u001b[0m                         Traceback (most recent call last)",
      "\u001b[0;32m<ipython-input-138-f38a59bad63a>\u001b[0m in \u001b[0;36m<module>\u001b[0;34m()\u001b[0m\n\u001b[0;32m----> 1\u001b[0;31m \u001b[0mm2\u001b[0m\u001b[0;34m.\u001b[0m\u001b[0mfit\u001b[0m\u001b[0;34m(\u001b[0m\u001b[0mX_train\u001b[0m\u001b[0;34m,\u001b[0m \u001b[0my_train\u001b[0m\u001b[0;34m,\u001b[0m \u001b[0mvalidation_data\u001b[0m\u001b[0;34m=\u001b[0m\u001b[0;34m(\u001b[0m\u001b[0mX_validate\u001b[0m\u001b[0;34m,\u001b[0m \u001b[0my_validate\u001b[0m\u001b[0;34m)\u001b[0m\u001b[0;34m,\u001b[0m \u001b[0mepochs\u001b[0m\u001b[0;34m=\u001b[0m\u001b[0;36m1\u001b[0m\u001b[0;34m)\u001b[0m\u001b[0;34m\u001b[0m\u001b[0m\n\u001b[0m",
      "\u001b[0;32m~/anaconda3/lib/python3.6/site-packages/keras/models.py\u001b[0m in \u001b[0;36mfit\u001b[0;34m(self, x, y, batch_size, epochs, verbose, callbacks, validation_split, validation_data, shuffle, class_weight, sample_weight, initial_epoch, steps_per_epoch, validation_steps, **kwargs)\u001b[0m\n\u001b[1;32m    958\u001b[0m                               \u001b[0minitial_epoch\u001b[0m\u001b[0;34m=\u001b[0m\u001b[0minitial_epoch\u001b[0m\u001b[0;34m,\u001b[0m\u001b[0;34m\u001b[0m\u001b[0m\n\u001b[1;32m    959\u001b[0m                               \u001b[0msteps_per_epoch\u001b[0m\u001b[0;34m=\u001b[0m\u001b[0msteps_per_epoch\u001b[0m\u001b[0;34m,\u001b[0m\u001b[0;34m\u001b[0m\u001b[0m\n\u001b[0;32m--> 960\u001b[0;31m                               validation_steps=validation_steps)\n\u001b[0m\u001b[1;32m    961\u001b[0m \u001b[0;34m\u001b[0m\u001b[0m\n\u001b[1;32m    962\u001b[0m     def evaluate(self, x, y, batch_size=32, verbose=1,\n",
      "\u001b[0;32m~/anaconda3/lib/python3.6/site-packages/keras/engine/training.py\u001b[0m in \u001b[0;36mfit\u001b[0;34m(self, x, y, batch_size, epochs, verbose, callbacks, validation_split, validation_data, shuffle, class_weight, sample_weight, initial_epoch, steps_per_epoch, validation_steps, **kwargs)\u001b[0m\n\u001b[1;32m   1655\u001b[0m                               \u001b[0minitial_epoch\u001b[0m\u001b[0;34m=\u001b[0m\u001b[0minitial_epoch\u001b[0m\u001b[0;34m,\u001b[0m\u001b[0;34m\u001b[0m\u001b[0m\n\u001b[1;32m   1656\u001b[0m                               \u001b[0msteps_per_epoch\u001b[0m\u001b[0;34m=\u001b[0m\u001b[0msteps_per_epoch\u001b[0m\u001b[0;34m,\u001b[0m\u001b[0;34m\u001b[0m\u001b[0m\n\u001b[0;32m-> 1657\u001b[0;31m                               validation_steps=validation_steps)\n\u001b[0m\u001b[1;32m   1658\u001b[0m \u001b[0;34m\u001b[0m\u001b[0m\n\u001b[1;32m   1659\u001b[0m     def evaluate(self, x=None, y=None,\n",
      "\u001b[0;32m~/anaconda3/lib/python3.6/site-packages/keras/engine/training.py\u001b[0m in \u001b[0;36m_fit_loop\u001b[0;34m(self, f, ins, out_labels, batch_size, epochs, verbose, callbacks, val_f, val_ins, shuffle, callback_metrics, initial_epoch, steps_per_epoch, validation_steps)\u001b[0m\n\u001b[1;32m   1211\u001b[0m                     \u001b[0mbatch_logs\u001b[0m\u001b[0;34m[\u001b[0m\u001b[0;34m'size'\u001b[0m\u001b[0;34m]\u001b[0m \u001b[0;34m=\u001b[0m \u001b[0mlen\u001b[0m\u001b[0;34m(\u001b[0m\u001b[0mbatch_ids\u001b[0m\u001b[0;34m)\u001b[0m\u001b[0;34m\u001b[0m\u001b[0m\n\u001b[1;32m   1212\u001b[0m                     \u001b[0mcallbacks\u001b[0m\u001b[0;34m.\u001b[0m\u001b[0mon_batch_begin\u001b[0m\u001b[0;34m(\u001b[0m\u001b[0mbatch_index\u001b[0m\u001b[0;34m,\u001b[0m \u001b[0mbatch_logs\u001b[0m\u001b[0;34m)\u001b[0m\u001b[0;34m\u001b[0m\u001b[0m\n\u001b[0;32m-> 1213\u001b[0;31m                     \u001b[0mouts\u001b[0m \u001b[0;34m=\u001b[0m \u001b[0mf\u001b[0m\u001b[0;34m(\u001b[0m\u001b[0mins_batch\u001b[0m\u001b[0;34m)\u001b[0m\u001b[0;34m\u001b[0m\u001b[0m\n\u001b[0m\u001b[1;32m   1214\u001b[0m                     \u001b[0;32mif\u001b[0m \u001b[0;32mnot\u001b[0m \u001b[0misinstance\u001b[0m\u001b[0;34m(\u001b[0m\u001b[0mouts\u001b[0m\u001b[0;34m,\u001b[0m \u001b[0mlist\u001b[0m\u001b[0;34m)\u001b[0m\u001b[0;34m:\u001b[0m\u001b[0;34m\u001b[0m\u001b[0m\n\u001b[1;32m   1215\u001b[0m                         \u001b[0mouts\u001b[0m \u001b[0;34m=\u001b[0m \u001b[0;34m[\u001b[0m\u001b[0mouts\u001b[0m\u001b[0;34m]\u001b[0m\u001b[0;34m\u001b[0m\u001b[0m\n",
      "\u001b[0;32m~/anaconda3/lib/python3.6/site-packages/keras/backend/tensorflow_backend.py\u001b[0m in \u001b[0;36m__call__\u001b[0;34m(self, inputs)\u001b[0m\n\u001b[1;32m   2355\u001b[0m         \u001b[0msession\u001b[0m \u001b[0;34m=\u001b[0m \u001b[0mget_session\u001b[0m\u001b[0;34m(\u001b[0m\u001b[0;34m)\u001b[0m\u001b[0;34m\u001b[0m\u001b[0m\n\u001b[1;32m   2356\u001b[0m         updated = session.run(fetches=fetches, feed_dict=feed_dict,\n\u001b[0;32m-> 2357\u001b[0;31m                               **self.session_kwargs)\n\u001b[0m\u001b[1;32m   2358\u001b[0m         \u001b[0;32mreturn\u001b[0m \u001b[0mupdated\u001b[0m\u001b[0;34m[\u001b[0m\u001b[0;34m:\u001b[0m\u001b[0mlen\u001b[0m\u001b[0;34m(\u001b[0m\u001b[0mself\u001b[0m\u001b[0;34m.\u001b[0m\u001b[0moutputs\u001b[0m\u001b[0;34m)\u001b[0m\u001b[0;34m]\u001b[0m\u001b[0;34m\u001b[0m\u001b[0m\n\u001b[1;32m   2359\u001b[0m \u001b[0;34m\u001b[0m\u001b[0m\n",
      "\u001b[0;32m~/anaconda3/lib/python3.6/site-packages/tensorflow/python/client/session.py\u001b[0m in \u001b[0;36mrun\u001b[0;34m(self, fetches, feed_dict, options, run_metadata)\u001b[0m\n\u001b[1;32m    776\u001b[0m     \u001b[0;32mtry\u001b[0m\u001b[0;34m:\u001b[0m\u001b[0;34m\u001b[0m\u001b[0m\n\u001b[1;32m    777\u001b[0m       result = self._run(None, fetches, feed_dict, options_ptr,\n\u001b[0;32m--> 778\u001b[0;31m                          run_metadata_ptr)\n\u001b[0m\u001b[1;32m    779\u001b[0m       \u001b[0;32mif\u001b[0m \u001b[0mrun_metadata\u001b[0m\u001b[0;34m:\u001b[0m\u001b[0;34m\u001b[0m\u001b[0m\n\u001b[1;32m    780\u001b[0m         \u001b[0mproto_data\u001b[0m \u001b[0;34m=\u001b[0m \u001b[0mtf_session\u001b[0m\u001b[0;34m.\u001b[0m\u001b[0mTF_GetBuffer\u001b[0m\u001b[0;34m(\u001b[0m\u001b[0mrun_metadata_ptr\u001b[0m\u001b[0;34m)\u001b[0m\u001b[0;34m\u001b[0m\u001b[0m\n",
      "\u001b[0;32m~/anaconda3/lib/python3.6/site-packages/tensorflow/python/client/session.py\u001b[0m in \u001b[0;36m_run\u001b[0;34m(self, handle, fetches, feed_dict, options, run_metadata)\u001b[0m\n\u001b[1;32m    980\u001b[0m     \u001b[0;32mif\u001b[0m \u001b[0mfinal_fetches\u001b[0m \u001b[0;32mor\u001b[0m \u001b[0mfinal_targets\u001b[0m\u001b[0;34m:\u001b[0m\u001b[0;34m\u001b[0m\u001b[0m\n\u001b[1;32m    981\u001b[0m       results = self._do_run(handle, final_targets, final_fetches,\n\u001b[0;32m--> 982\u001b[0;31m                              feed_dict_string, options, run_metadata)\n\u001b[0m\u001b[1;32m    983\u001b[0m     \u001b[0;32melse\u001b[0m\u001b[0;34m:\u001b[0m\u001b[0;34m\u001b[0m\u001b[0m\n\u001b[1;32m    984\u001b[0m       \u001b[0mresults\u001b[0m \u001b[0;34m=\u001b[0m \u001b[0;34m[\u001b[0m\u001b[0;34m]\u001b[0m\u001b[0;34m\u001b[0m\u001b[0m\n",
      "\u001b[0;32m~/anaconda3/lib/python3.6/site-packages/tensorflow/python/client/session.py\u001b[0m in \u001b[0;36m_do_run\u001b[0;34m(self, handle, target_list, fetch_list, feed_dict, options, run_metadata)\u001b[0m\n\u001b[1;32m   1030\u001b[0m     \u001b[0;32mif\u001b[0m \u001b[0mhandle\u001b[0m \u001b[0;32mis\u001b[0m \u001b[0;32mNone\u001b[0m\u001b[0;34m:\u001b[0m\u001b[0;34m\u001b[0m\u001b[0m\n\u001b[1;32m   1031\u001b[0m       return self._do_call(_run_fn, self._session, feed_dict, fetch_list,\n\u001b[0;32m-> 1032\u001b[0;31m                            target_list, options, run_metadata)\n\u001b[0m\u001b[1;32m   1033\u001b[0m     \u001b[0;32melse\u001b[0m\u001b[0;34m:\u001b[0m\u001b[0;34m\u001b[0m\u001b[0m\n\u001b[1;32m   1034\u001b[0m       return self._do_call(_prun_fn, self._session, handle, feed_dict,\n",
      "\u001b[0;32m~/anaconda3/lib/python3.6/site-packages/tensorflow/python/client/session.py\u001b[0m in \u001b[0;36m_do_call\u001b[0;34m(self, fn, *args)\u001b[0m\n\u001b[1;32m   1037\u001b[0m   \u001b[0;32mdef\u001b[0m \u001b[0m_do_call\u001b[0m\u001b[0;34m(\u001b[0m\u001b[0mself\u001b[0m\u001b[0;34m,\u001b[0m \u001b[0mfn\u001b[0m\u001b[0;34m,\u001b[0m \u001b[0;34m*\u001b[0m\u001b[0margs\u001b[0m\u001b[0;34m)\u001b[0m\u001b[0;34m:\u001b[0m\u001b[0;34m\u001b[0m\u001b[0m\n\u001b[1;32m   1038\u001b[0m     \u001b[0;32mtry\u001b[0m\u001b[0;34m:\u001b[0m\u001b[0;34m\u001b[0m\u001b[0m\n\u001b[0;32m-> 1039\u001b[0;31m       \u001b[0;32mreturn\u001b[0m \u001b[0mfn\u001b[0m\u001b[0;34m(\u001b[0m\u001b[0;34m*\u001b[0m\u001b[0margs\u001b[0m\u001b[0;34m)\u001b[0m\u001b[0;34m\u001b[0m\u001b[0m\n\u001b[0m\u001b[1;32m   1040\u001b[0m     \u001b[0;32mexcept\u001b[0m \u001b[0merrors\u001b[0m\u001b[0;34m.\u001b[0m\u001b[0mOpError\u001b[0m \u001b[0;32mas\u001b[0m \u001b[0me\u001b[0m\u001b[0;34m:\u001b[0m\u001b[0;34m\u001b[0m\u001b[0m\n\u001b[1;32m   1041\u001b[0m       \u001b[0mmessage\u001b[0m \u001b[0;34m=\u001b[0m \u001b[0mcompat\u001b[0m\u001b[0;34m.\u001b[0m\u001b[0mas_text\u001b[0m\u001b[0;34m(\u001b[0m\u001b[0me\u001b[0m\u001b[0;34m.\u001b[0m\u001b[0mmessage\u001b[0m\u001b[0;34m)\u001b[0m\u001b[0;34m\u001b[0m\u001b[0m\n",
      "\u001b[0;32m~/anaconda3/lib/python3.6/site-packages/tensorflow/python/client/session.py\u001b[0m in \u001b[0;36m_run_fn\u001b[0;34m(session, feed_dict, fetch_list, target_list, options, run_metadata)\u001b[0m\n\u001b[1;32m   1019\u001b[0m         return tf_session.TF_Run(session, options,\n\u001b[1;32m   1020\u001b[0m                                  \u001b[0mfeed_dict\u001b[0m\u001b[0;34m,\u001b[0m \u001b[0mfetch_list\u001b[0m\u001b[0;34m,\u001b[0m \u001b[0mtarget_list\u001b[0m\u001b[0;34m,\u001b[0m\u001b[0;34m\u001b[0m\u001b[0m\n\u001b[0;32m-> 1021\u001b[0;31m                                  status, run_metadata)\n\u001b[0m\u001b[1;32m   1022\u001b[0m \u001b[0;34m\u001b[0m\u001b[0m\n\u001b[1;32m   1023\u001b[0m     \u001b[0;32mdef\u001b[0m \u001b[0m_prun_fn\u001b[0m\u001b[0;34m(\u001b[0m\u001b[0msession\u001b[0m\u001b[0;34m,\u001b[0m \u001b[0mhandle\u001b[0m\u001b[0;34m,\u001b[0m \u001b[0mfeed_dict\u001b[0m\u001b[0;34m,\u001b[0m \u001b[0mfetch_list\u001b[0m\u001b[0;34m)\u001b[0m\u001b[0;34m:\u001b[0m\u001b[0;34m\u001b[0m\u001b[0m\n",
      "\u001b[0;31mKeyboardInterrupt\u001b[0m: "
     ]
    }
   ],
   "source": [
    "m2.fit(X_train, y_train, validation_data=(X_validate, y_validate), epochs=1)"
   ]
  },
  {
   "cell_type": "code",
   "execution_count": 15,
   "metadata": {},
   "outputs": [
    {
     "name": "stdout",
     "output_type": "stream",
     "text": [
      "Train on 28140 samples, validate on 13860 samples\n",
      "Epoch 1/10\n",
      "28140/28140 [==============================] - 16s 579us/step - loss: 0.0262 - acc: 0.9913 - val_loss: 0.0179 - val_acc: 0.9942\n",
      "Epoch 2/10\n",
      "28140/28140 [==============================] - 17s 594us/step - loss: 0.0195 - acc: 0.9935 - val_loss: 0.0147 - val_acc: 0.9952\n",
      "Epoch 3/10\n",
      "28140/28140 [==============================] - 18s 626us/step - loss: 0.0162 - acc: 0.9946 - val_loss: 0.0140 - val_acc: 0.9956\n",
      "Epoch 4/10\n",
      "28140/28140 [==============================] - 20s 694us/step - loss: 0.0147 - acc: 0.9950 - val_loss: 0.0114 - val_acc: 0.9964\n",
      "Epoch 5/10\n",
      "28140/28140 [==============================] - 17s 589us/step - loss: 0.0131 - acc: 0.9956 - val_loss: 0.0111 - val_acc: 0.9965\n",
      "Epoch 6/10\n",
      "28140/28140 [==============================] - 16s 576us/step - loss: 0.0116 - acc: 0.9961 - val_loss: 0.0105 - val_acc: 0.9966\n",
      "Epoch 7/10\n",
      "28140/28140 [==============================] - 19s 692us/step - loss: 0.0109 - acc: 0.9962 - val_loss: 0.0106 - val_acc: 0.9965\n",
      "Epoch 8/10\n",
      "28140/28140 [==============================] - 19s 689us/step - loss: 0.0102 - acc: 0.9965 - val_loss: 0.0113 - val_acc: 0.9964\n",
      "Epoch 9/10\n",
      "28140/28140 [==============================] - 17s 611us/step - loss: 0.0101 - acc: 0.9965 - val_loss: 0.0102 - val_acc: 0.9969\n",
      "Epoch 10/10\n",
      "28140/28140 [==============================] - 15s 544us/step - loss: 0.0086 - acc: 0.9971 - val_loss: 0.0095 - val_acc: 0.9969\n",
      "Train on 28140 samples, validate on 13860 samples\n",
      "Epoch 1/10\n",
      "28140/28140 [==============================] - 18s 625us/step - loss: 0.0083 - acc: 0.9972 - val_loss: 0.0102 - val_acc: 0.9967\n",
      "Epoch 2/10\n",
      "28140/28140 [==============================] - 17s 597us/step - loss: 0.0082 - acc: 0.9971 - val_loss: 0.0105 - val_acc: 0.9966\n",
      "Epoch 3/10\n",
      "28140/28140 [==============================] - 17s 597us/step - loss: 0.0082 - acc: 0.9970 - val_loss: 0.0107 - val_acc: 0.9968\n",
      "Epoch 4/10\n",
      "28140/28140 [==============================] - 19s 685us/step - loss: 0.0077 - acc: 0.9974 - val_loss: 0.0104 - val_acc: 0.9967\n",
      "Epoch 5/10\n",
      "28140/28140 [==============================] - 16s 583us/step - loss: 0.0069 - acc: 0.9976 - val_loss: 0.0092 - val_acc: 0.9972\n",
      "Epoch 6/10\n",
      "28140/28140 [==============================] - 16s 585us/step - loss: 0.0072 - acc: 0.9974 - val_loss: 0.0106 - val_acc: 0.9969\n",
      "Epoch 7/10\n",
      "28140/28140 [==============================] - 18s 645us/step - loss: 0.0064 - acc: 0.9978 - val_loss: 0.0093 - val_acc: 0.9970\n",
      "Epoch 8/10\n",
      "21056/28140 [=====================>........] - ETA: 4s - loss: 0.0064 - acc: 0.9977"
     ]
    },
    {
     "ename": "KeyboardInterrupt",
     "evalue": "",
     "output_type": "error",
     "traceback": [
      "\u001b[0;31m---------------------------------------------------------------------------\u001b[0m",
      "\u001b[0;31mKeyboardInterrupt\u001b[0m                         Traceback (most recent call last)",
      "\u001b[0;32m<ipython-input-15-19d19803d6b7>\u001b[0m in \u001b[0;36m<module>\u001b[0;34m()\u001b[0m\n\u001b[1;32m      1\u001b[0m \u001b[0mm2\u001b[0m\u001b[0;34m.\u001b[0m\u001b[0mfit\u001b[0m\u001b[0;34m(\u001b[0m\u001b[0mX_train\u001b[0m\u001b[0;34m,\u001b[0m \u001b[0my_train\u001b[0m\u001b[0;34m,\u001b[0m \u001b[0mvalidation_data\u001b[0m\u001b[0;34m=\u001b[0m\u001b[0;34m(\u001b[0m\u001b[0mX_validate\u001b[0m\u001b[0;34m,\u001b[0m \u001b[0my_validate\u001b[0m\u001b[0;34m)\u001b[0m\u001b[0;34m,\u001b[0m \u001b[0mepochs\u001b[0m\u001b[0;34m=\u001b[0m\u001b[0;36m10\u001b[0m\u001b[0;34m)\u001b[0m\u001b[0;34m\u001b[0m\u001b[0m\n\u001b[1;32m      2\u001b[0m \u001b[0mm2\u001b[0m\u001b[0;34m.\u001b[0m\u001b[0moptimizer\u001b[0m\u001b[0;34m.\u001b[0m\u001b[0mlr\u001b[0m \u001b[0;34m=\u001b[0m \u001b[0;36m0.00001\u001b[0m\u001b[0;34m\u001b[0m\u001b[0m\n\u001b[0;32m----> 3\u001b[0;31m \u001b[0mm2\u001b[0m\u001b[0;34m.\u001b[0m\u001b[0mfit\u001b[0m\u001b[0;34m(\u001b[0m\u001b[0mX_train\u001b[0m\u001b[0;34m,\u001b[0m \u001b[0my_train\u001b[0m\u001b[0;34m,\u001b[0m \u001b[0mvalidation_data\u001b[0m\u001b[0;34m=\u001b[0m\u001b[0;34m(\u001b[0m\u001b[0mX_validate\u001b[0m\u001b[0;34m,\u001b[0m \u001b[0my_validate\u001b[0m\u001b[0;34m)\u001b[0m\u001b[0;34m,\u001b[0m \u001b[0mepochs\u001b[0m\u001b[0;34m=\u001b[0m\u001b[0;36m10\u001b[0m\u001b[0;34m)\u001b[0m\u001b[0;34m\u001b[0m\u001b[0m\n\u001b[0m",
      "\u001b[0;32m~/anaconda3/lib/python3.6/site-packages/keras/models.py\u001b[0m in \u001b[0;36mfit\u001b[0;34m(self, x, y, batch_size, epochs, verbose, callbacks, validation_split, validation_data, shuffle, class_weight, sample_weight, initial_epoch, steps_per_epoch, validation_steps, **kwargs)\u001b[0m\n\u001b[1;32m    958\u001b[0m                               \u001b[0minitial_epoch\u001b[0m\u001b[0;34m=\u001b[0m\u001b[0minitial_epoch\u001b[0m\u001b[0;34m,\u001b[0m\u001b[0;34m\u001b[0m\u001b[0m\n\u001b[1;32m    959\u001b[0m                               \u001b[0msteps_per_epoch\u001b[0m\u001b[0;34m=\u001b[0m\u001b[0msteps_per_epoch\u001b[0m\u001b[0;34m,\u001b[0m\u001b[0;34m\u001b[0m\u001b[0m\n\u001b[0;32m--> 960\u001b[0;31m                               validation_steps=validation_steps)\n\u001b[0m\u001b[1;32m    961\u001b[0m \u001b[0;34m\u001b[0m\u001b[0m\n\u001b[1;32m    962\u001b[0m     def evaluate(self, x, y, batch_size=32, verbose=1,\n",
      "\u001b[0;32m~/anaconda3/lib/python3.6/site-packages/keras/engine/training.py\u001b[0m in \u001b[0;36mfit\u001b[0;34m(self, x, y, batch_size, epochs, verbose, callbacks, validation_split, validation_data, shuffle, class_weight, sample_weight, initial_epoch, steps_per_epoch, validation_steps, **kwargs)\u001b[0m\n\u001b[1;32m   1655\u001b[0m                               \u001b[0minitial_epoch\u001b[0m\u001b[0;34m=\u001b[0m\u001b[0minitial_epoch\u001b[0m\u001b[0;34m,\u001b[0m\u001b[0;34m\u001b[0m\u001b[0m\n\u001b[1;32m   1656\u001b[0m                               \u001b[0msteps_per_epoch\u001b[0m\u001b[0;34m=\u001b[0m\u001b[0msteps_per_epoch\u001b[0m\u001b[0;34m,\u001b[0m\u001b[0;34m\u001b[0m\u001b[0m\n\u001b[0;32m-> 1657\u001b[0;31m                               validation_steps=validation_steps)\n\u001b[0m\u001b[1;32m   1658\u001b[0m \u001b[0;34m\u001b[0m\u001b[0m\n\u001b[1;32m   1659\u001b[0m     def evaluate(self, x=None, y=None,\n",
      "\u001b[0;32m~/anaconda3/lib/python3.6/site-packages/keras/engine/training.py\u001b[0m in \u001b[0;36m_fit_loop\u001b[0;34m(self, f, ins, out_labels, batch_size, epochs, verbose, callbacks, val_f, val_ins, shuffle, callback_metrics, initial_epoch, steps_per_epoch, validation_steps)\u001b[0m\n\u001b[1;32m   1211\u001b[0m                     \u001b[0mbatch_logs\u001b[0m\u001b[0;34m[\u001b[0m\u001b[0;34m'size'\u001b[0m\u001b[0;34m]\u001b[0m \u001b[0;34m=\u001b[0m \u001b[0mlen\u001b[0m\u001b[0;34m(\u001b[0m\u001b[0mbatch_ids\u001b[0m\u001b[0;34m)\u001b[0m\u001b[0;34m\u001b[0m\u001b[0m\n\u001b[1;32m   1212\u001b[0m                     \u001b[0mcallbacks\u001b[0m\u001b[0;34m.\u001b[0m\u001b[0mon_batch_begin\u001b[0m\u001b[0;34m(\u001b[0m\u001b[0mbatch_index\u001b[0m\u001b[0;34m,\u001b[0m \u001b[0mbatch_logs\u001b[0m\u001b[0;34m)\u001b[0m\u001b[0;34m\u001b[0m\u001b[0m\n\u001b[0;32m-> 1213\u001b[0;31m                     \u001b[0mouts\u001b[0m \u001b[0;34m=\u001b[0m \u001b[0mf\u001b[0m\u001b[0;34m(\u001b[0m\u001b[0mins_batch\u001b[0m\u001b[0;34m)\u001b[0m\u001b[0;34m\u001b[0m\u001b[0m\n\u001b[0m\u001b[1;32m   1214\u001b[0m                     \u001b[0;32mif\u001b[0m \u001b[0;32mnot\u001b[0m \u001b[0misinstance\u001b[0m\u001b[0;34m(\u001b[0m\u001b[0mouts\u001b[0m\u001b[0;34m,\u001b[0m \u001b[0mlist\u001b[0m\u001b[0;34m)\u001b[0m\u001b[0;34m:\u001b[0m\u001b[0;34m\u001b[0m\u001b[0m\n\u001b[1;32m   1215\u001b[0m                         \u001b[0mouts\u001b[0m \u001b[0;34m=\u001b[0m \u001b[0;34m[\u001b[0m\u001b[0mouts\u001b[0m\u001b[0;34m]\u001b[0m\u001b[0;34m\u001b[0m\u001b[0m\n",
      "\u001b[0;32m~/anaconda3/lib/python3.6/site-packages/keras/backend/tensorflow_backend.py\u001b[0m in \u001b[0;36m__call__\u001b[0;34m(self, inputs)\u001b[0m\n\u001b[1;32m   2355\u001b[0m         \u001b[0msession\u001b[0m \u001b[0;34m=\u001b[0m \u001b[0mget_session\u001b[0m\u001b[0;34m(\u001b[0m\u001b[0;34m)\u001b[0m\u001b[0;34m\u001b[0m\u001b[0m\n\u001b[1;32m   2356\u001b[0m         updated = session.run(fetches=fetches, feed_dict=feed_dict,\n\u001b[0;32m-> 2357\u001b[0;31m                               **self.session_kwargs)\n\u001b[0m\u001b[1;32m   2358\u001b[0m         \u001b[0;32mreturn\u001b[0m \u001b[0mupdated\u001b[0m\u001b[0;34m[\u001b[0m\u001b[0;34m:\u001b[0m\u001b[0mlen\u001b[0m\u001b[0;34m(\u001b[0m\u001b[0mself\u001b[0m\u001b[0;34m.\u001b[0m\u001b[0moutputs\u001b[0m\u001b[0;34m)\u001b[0m\u001b[0;34m]\u001b[0m\u001b[0;34m\u001b[0m\u001b[0m\n\u001b[1;32m   2359\u001b[0m \u001b[0;34m\u001b[0m\u001b[0m\n",
      "\u001b[0;32m~/anaconda3/lib/python3.6/site-packages/tensorflow/python/client/session.py\u001b[0m in \u001b[0;36mrun\u001b[0;34m(self, fetches, feed_dict, options, run_metadata)\u001b[0m\n\u001b[1;32m    776\u001b[0m     \u001b[0;32mtry\u001b[0m\u001b[0;34m:\u001b[0m\u001b[0;34m\u001b[0m\u001b[0m\n\u001b[1;32m    777\u001b[0m       result = self._run(None, fetches, feed_dict, options_ptr,\n\u001b[0;32m--> 778\u001b[0;31m                          run_metadata_ptr)\n\u001b[0m\u001b[1;32m    779\u001b[0m       \u001b[0;32mif\u001b[0m \u001b[0mrun_metadata\u001b[0m\u001b[0;34m:\u001b[0m\u001b[0;34m\u001b[0m\u001b[0m\n\u001b[1;32m    780\u001b[0m         \u001b[0mproto_data\u001b[0m \u001b[0;34m=\u001b[0m \u001b[0mtf_session\u001b[0m\u001b[0;34m.\u001b[0m\u001b[0mTF_GetBuffer\u001b[0m\u001b[0;34m(\u001b[0m\u001b[0mrun_metadata_ptr\u001b[0m\u001b[0;34m)\u001b[0m\u001b[0;34m\u001b[0m\u001b[0m\n",
      "\u001b[0;32m~/anaconda3/lib/python3.6/site-packages/tensorflow/python/client/session.py\u001b[0m in \u001b[0;36m_run\u001b[0;34m(self, handle, fetches, feed_dict, options, run_metadata)\u001b[0m\n\u001b[1;32m    980\u001b[0m     \u001b[0;32mif\u001b[0m \u001b[0mfinal_fetches\u001b[0m \u001b[0;32mor\u001b[0m \u001b[0mfinal_targets\u001b[0m\u001b[0;34m:\u001b[0m\u001b[0;34m\u001b[0m\u001b[0m\n\u001b[1;32m    981\u001b[0m       results = self._do_run(handle, final_targets, final_fetches,\n\u001b[0;32m--> 982\u001b[0;31m                              feed_dict_string, options, run_metadata)\n\u001b[0m\u001b[1;32m    983\u001b[0m     \u001b[0;32melse\u001b[0m\u001b[0;34m:\u001b[0m\u001b[0;34m\u001b[0m\u001b[0m\n\u001b[1;32m    984\u001b[0m       \u001b[0mresults\u001b[0m \u001b[0;34m=\u001b[0m \u001b[0;34m[\u001b[0m\u001b[0;34m]\u001b[0m\u001b[0;34m\u001b[0m\u001b[0m\n",
      "\u001b[0;32m~/anaconda3/lib/python3.6/site-packages/tensorflow/python/client/session.py\u001b[0m in \u001b[0;36m_do_run\u001b[0;34m(self, handle, target_list, fetch_list, feed_dict, options, run_metadata)\u001b[0m\n\u001b[1;32m   1030\u001b[0m     \u001b[0;32mif\u001b[0m \u001b[0mhandle\u001b[0m \u001b[0;32mis\u001b[0m \u001b[0;32mNone\u001b[0m\u001b[0;34m:\u001b[0m\u001b[0;34m\u001b[0m\u001b[0m\n\u001b[1;32m   1031\u001b[0m       return self._do_call(_run_fn, self._session, feed_dict, fetch_list,\n\u001b[0;32m-> 1032\u001b[0;31m                            target_list, options, run_metadata)\n\u001b[0m\u001b[1;32m   1033\u001b[0m     \u001b[0;32melse\u001b[0m\u001b[0;34m:\u001b[0m\u001b[0;34m\u001b[0m\u001b[0m\n\u001b[1;32m   1034\u001b[0m       return self._do_call(_prun_fn, self._session, handle, feed_dict,\n",
      "\u001b[0;32m~/anaconda3/lib/python3.6/site-packages/tensorflow/python/client/session.py\u001b[0m in \u001b[0;36m_do_call\u001b[0;34m(self, fn, *args)\u001b[0m\n\u001b[1;32m   1037\u001b[0m   \u001b[0;32mdef\u001b[0m \u001b[0m_do_call\u001b[0m\u001b[0;34m(\u001b[0m\u001b[0mself\u001b[0m\u001b[0;34m,\u001b[0m \u001b[0mfn\u001b[0m\u001b[0;34m,\u001b[0m \u001b[0;34m*\u001b[0m\u001b[0margs\u001b[0m\u001b[0;34m)\u001b[0m\u001b[0;34m:\u001b[0m\u001b[0;34m\u001b[0m\u001b[0m\n\u001b[1;32m   1038\u001b[0m     \u001b[0;32mtry\u001b[0m\u001b[0;34m:\u001b[0m\u001b[0;34m\u001b[0m\u001b[0m\n\u001b[0;32m-> 1039\u001b[0;31m       \u001b[0;32mreturn\u001b[0m \u001b[0mfn\u001b[0m\u001b[0;34m(\u001b[0m\u001b[0;34m*\u001b[0m\u001b[0margs\u001b[0m\u001b[0;34m)\u001b[0m\u001b[0;34m\u001b[0m\u001b[0m\n\u001b[0m\u001b[1;32m   1040\u001b[0m     \u001b[0;32mexcept\u001b[0m \u001b[0merrors\u001b[0m\u001b[0;34m.\u001b[0m\u001b[0mOpError\u001b[0m \u001b[0;32mas\u001b[0m \u001b[0me\u001b[0m\u001b[0;34m:\u001b[0m\u001b[0;34m\u001b[0m\u001b[0m\n\u001b[1;32m   1041\u001b[0m       \u001b[0mmessage\u001b[0m \u001b[0;34m=\u001b[0m \u001b[0mcompat\u001b[0m\u001b[0;34m.\u001b[0m\u001b[0mas_text\u001b[0m\u001b[0;34m(\u001b[0m\u001b[0me\u001b[0m\u001b[0;34m.\u001b[0m\u001b[0mmessage\u001b[0m\u001b[0;34m)\u001b[0m\u001b[0;34m\u001b[0m\u001b[0m\n",
      "\u001b[0;32m~/anaconda3/lib/python3.6/site-packages/tensorflow/python/client/session.py\u001b[0m in \u001b[0;36m_run_fn\u001b[0;34m(session, feed_dict, fetch_list, target_list, options, run_metadata)\u001b[0m\n\u001b[1;32m   1019\u001b[0m         return tf_session.TF_Run(session, options,\n\u001b[1;32m   1020\u001b[0m                                  \u001b[0mfeed_dict\u001b[0m\u001b[0;34m,\u001b[0m \u001b[0mfetch_list\u001b[0m\u001b[0;34m,\u001b[0m \u001b[0mtarget_list\u001b[0m\u001b[0;34m,\u001b[0m\u001b[0;34m\u001b[0m\u001b[0m\n\u001b[0;32m-> 1021\u001b[0;31m                                  status, run_metadata)\n\u001b[0m\u001b[1;32m   1022\u001b[0m \u001b[0;34m\u001b[0m\u001b[0m\n\u001b[1;32m   1023\u001b[0m     \u001b[0;32mdef\u001b[0m \u001b[0m_prun_fn\u001b[0m\u001b[0;34m(\u001b[0m\u001b[0msession\u001b[0m\u001b[0;34m,\u001b[0m \u001b[0mhandle\u001b[0m\u001b[0;34m,\u001b[0m \u001b[0mfeed_dict\u001b[0m\u001b[0;34m,\u001b[0m \u001b[0mfetch_list\u001b[0m\u001b[0;34m)\u001b[0m\u001b[0;34m:\u001b[0m\u001b[0;34m\u001b[0m\u001b[0m\n",
      "\u001b[0;31mKeyboardInterrupt\u001b[0m: "
     ]
    }
   ],
   "source": [
    "m2.fit(X_train, y_train, validation_data=(X_validate, y_validate), epochs=10)\n",
    "m2.optimizer.lr = 0.00001\n",
    "m2.fit(X_train, y_train, validation_data=(X_validate, y_validate), epochs=10)"
   ]
  },
  {
   "cell_type": "code",
   "execution_count": 198,
   "metadata": {
    "collapsed": true
   },
   "outputs": [],
   "source": [
    "m3 = Sequential([\n",
    "    Permute((2,1), input_shape=(28,28)),\n",
    "    BatchNormalization(),\n",
    "    Convolution1D(32, (3), activation='relu', padding='same'),\n",
    "    Dropout(0.1),\n",
    "    MaxPooling1D(2),\n",
    "    BatchNormalization(),\n",
    "    Convolution1D(64, (3), activation='relu', padding='same'),\n",
    "    Dropout(0.1),\n",
    "    MaxPooling1D(3),\n",
    "    Flatten(),\n",
    "    BatchNormalization(),\n",
    "    Dense(30, activation='relu'),\n",
    "    Dropout(0.5),\n",
    "    BatchNormalization(),\n",
    "    Dense(10, activation='softmax')   \n",
    "])\n",
    "\n",
    "m3.compile(optimizer='adam', loss='binary_crossentropy', metrics=['accuracy'])"
   ]
  },
  {
   "cell_type": "code",
   "execution_count": 199,
   "metadata": {},
   "outputs": [
    {
     "name": "stdout",
     "output_type": "stream",
     "text": [
      "Train on 28140 samples, validate on 13860 samples\n",
      "Epoch 1/2\n",
      "28140/28140 [==============================] - 22s 775us/step - loss: 0.1961 - acc: 0.9305 - val_loss: 0.1178 - val_acc: 0.9580\n",
      "Epoch 2/2\n",
      "28140/28140 [==============================] - 19s 680us/step - loss: 0.1013 - acc: 0.9653 - val_loss: 0.0739 - val_acc: 0.9777\n",
      "Train on 28140 samples, validate on 13860 samples\n",
      "Epoch 1/8\n",
      "28140/28140 [==============================] - 20s 710us/step - loss: 0.0707 - acc: 0.9775 - val_loss: 0.0541 - val_acc: 0.9838\n",
      "Epoch 2/8\n",
      "28140/28140 [==============================] - 18s 654us/step - loss: 0.0556 - acc: 0.9821 - val_loss: 0.0435 - val_acc: 0.9869\n",
      "Epoch 3/8\n",
      "28140/28140 [==============================] - 19s 674us/step - loss: 0.0461 - acc: 0.9852 - val_loss: 0.0372 - val_acc: 0.9888\n",
      "Epoch 4/8\n",
      "28140/28140 [==============================] - 21s 734us/step - loss: 0.0402 - acc: 0.9868 - val_loss: 0.0326 - val_acc: 0.9899\n",
      "Epoch 5/8\n",
      "28140/28140 [==============================] - 19s 670us/step - loss: 0.0363 - acc: 0.9880 - val_loss: 0.0294 - val_acc: 0.9909\n",
      "Epoch 6/8\n",
      "28140/28140 [==============================] - 19s 662us/step - loss: 0.0330 - acc: 0.9892 - val_loss: 0.0270 - val_acc: 0.9914\n",
      "Epoch 7/8\n",
      "28140/28140 [==============================] - 21s 743us/step - loss: 0.0307 - acc: 0.9898 - val_loss: 0.0248 - val_acc: 0.9921\n",
      "Epoch 8/8\n",
      "28140/28140 [==============================] - 20s 724us/step - loss: 0.0291 - acc: 0.9905 - val_loss: 0.0233 - val_acc: 0.9926\n",
      "Train on 28140 samples, validate on 13860 samples\n",
      "Epoch 1/10\n",
      "28140/28140 [==============================] - 21s 752us/step - loss: 0.0267 - acc: 0.9912 - val_loss: 0.0218 - val_acc: 0.9928\n",
      "Epoch 2/10\n",
      "28140/28140 [==============================] - 27s 947us/step - loss: 0.0253 - acc: 0.9917 - val_loss: 0.0209 - val_acc: 0.9932\n",
      "Epoch 3/10\n",
      "28140/28140 [==============================] - 21s 748us/step - loss: 0.0235 - acc: 0.9922 - val_loss: 0.0199 - val_acc: 0.9935\n",
      "Epoch 4/10\n",
      "28140/28140 [==============================] - 25s 884us/step - loss: 0.0226 - acc: 0.9924 - val_loss: 0.0192 - val_acc: 0.9938\n",
      "Epoch 5/10\n",
      "28140/28140 [==============================] - 22s 767us/step - loss: 0.0216 - acc: 0.9928 - val_loss: 0.0183 - val_acc: 0.9940\n",
      "Epoch 6/10\n",
      "28140/28140 [==============================] - 22s 778us/step - loss: 0.0206 - acc: 0.9933 - val_loss: 0.0180 - val_acc: 0.9943\n",
      "Epoch 7/10\n",
      "28140/28140 [==============================] - 25s 889us/step - loss: 0.0197 - acc: 0.9934 - val_loss: 0.0174 - val_acc: 0.9942\n",
      "Epoch 8/10\n",
      "28140/28140 [==============================] - 22s 786us/step - loss: 0.0190 - acc: 0.9937 - val_loss: 0.0170 - val_acc: 0.9943\n",
      "Epoch 9/10\n",
      "28140/28140 [==============================] - 24s 843us/step - loss: 0.0183 - acc: 0.9938 - val_loss: 0.0164 - val_acc: 0.9944\n",
      "Epoch 10/10\n",
      "28140/28140 [==============================] - 24s 845us/step - loss: 0.0179 - acc: 0.9941 - val_loss: 0.0160 - val_acc: 0.9945\n",
      "Train on 28140 samples, validate on 13860 samples\n",
      "Epoch 1/10\n",
      "28140/28140 [==============================] - 23s 812us/step - loss: 0.0169 - acc: 0.9943 - val_loss: 0.0158 - val_acc: 0.9946\n",
      "Epoch 2/10\n",
      "28140/28140 [==============================] - 25s 875us/step - loss: 0.0172 - acc: 0.9942 - val_loss: 0.0153 - val_acc: 0.9947\n",
      "Epoch 3/10\n",
      "28140/28140 [==============================] - 22s 798us/step - loss: 0.0161 - acc: 0.9946 - val_loss: 0.0150 - val_acc: 0.9948\n",
      "Epoch 4/10\n",
      "28140/28140 [==============================] - 23s 828us/step - loss: 0.0165 - acc: 0.9942 - val_loss: 0.0147 - val_acc: 0.9948\n",
      "Epoch 5/10\n",
      "28140/28140 [==============================] - 24s 838us/step - loss: 0.0155 - acc: 0.9947 - val_loss: 0.0146 - val_acc: 0.9950\n",
      "Epoch 6/10\n",
      "28140/28140 [==============================] - 23s 801us/step - loss: 0.0153 - acc: 0.9947 - val_loss: 0.0143 - val_acc: 0.9951\n",
      "Epoch 7/10\n",
      "28140/28140 [==============================] - 25s 871us/step - loss: 0.0147 - acc: 0.9950 - val_loss: 0.0141 - val_acc: 0.9952\n",
      "Epoch 8/10\n",
      "28140/28140 [==============================] - 23s 801us/step - loss: 0.0145 - acc: 0.9952 - val_loss: 0.0139 - val_acc: 0.9952\n",
      "Epoch 9/10\n",
      "28140/28140 [==============================] - 22s 780us/step - loss: 0.0144 - acc: 0.9950 - val_loss: 0.0138 - val_acc: 0.9953\n",
      "Epoch 10/10\n",
      "28140/28140 [==============================] - 24s 857us/step - loss: 0.0140 - acc: 0.9951 - val_loss: 0.0139 - val_acc: 0.9952\n"
     ]
    },
    {
     "data": {
      "text/plain": [
       "<keras.callbacks.History at 0x1a75f97588>"
      ]
     },
     "execution_count": 199,
     "metadata": {},
     "output_type": "execute_result"
    }
   ],
   "source": [
    "m3.optimizer.lr = 0.0001\n",
    "m3.fit(X_train, y_train, validation_data=(X_validate, y_validate), epochs=2)\n",
    "m3.optimizer.lr = 0.001\n",
    "m3.fit(X_train, y_train, validation_data=(X_validate, y_validate), epochs=8)\n",
    "m3.optimizer.lr = 0.0001\n",
    "m3.fit(X_train, y_train, validation_data=(X_validate, y_validate), epochs=10)\n",
    "m3.optimizer.lr = 0.00001\n",
    "m3.fit(X_train, y_train, validation_data=(X_validate, y_validate), epochs=10)"
   ]
  },
  {
   "cell_type": "code",
   "execution_count": 200,
   "metadata": {},
   "outputs": [
    {
     "name": "stdout",
     "output_type": "stream",
     "text": [
      "Train on 28140 samples, validate on 13860 samples\n",
      "Epoch 1/10\n",
      "28140/28140 [==============================] - 19s 673us/step - loss: 0.0135 - acc: 0.9956 - val_loss: 0.0136 - val_acc: 0.9954\n",
      "Epoch 2/10\n",
      "28140/28140 [==============================] - 20s 716us/step - loss: 0.0130 - acc: 0.9956 - val_loss: 0.0131 - val_acc: 0.9956\n",
      "Epoch 3/10\n",
      "28140/28140 [==============================] - 21s 751us/step - loss: 0.0130 - acc: 0.9955 - val_loss: 0.0131 - val_acc: 0.9955\n",
      "Epoch 4/10\n",
      "28140/28140 [==============================] - 19s 682us/step - loss: 0.0128 - acc: 0.9955 - val_loss: 0.0128 - val_acc: 0.9955\n",
      "Epoch 5/10\n",
      "28140/28140 [==============================] - 20s 711us/step - loss: 0.0127 - acc: 0.9957 - val_loss: 0.0130 - val_acc: 0.9956\n",
      "Epoch 6/10\n",
      "28140/28140 [==============================] - 20s 723us/step - loss: 0.0120 - acc: 0.9959 - val_loss: 0.0127 - val_acc: 0.9956\n",
      "Epoch 7/10\n",
      "28140/28140 [==============================] - 19s 673us/step - loss: 0.0118 - acc: 0.9960 - val_loss: 0.0124 - val_acc: 0.9956\n",
      "Epoch 8/10\n",
      "28140/28140 [==============================] - 20s 703us/step - loss: 0.0119 - acc: 0.9960 - val_loss: 0.0125 - val_acc: 0.9956\n",
      "Epoch 9/10\n",
      "28140/28140 [==============================] - 21s 744us/step - loss: 0.0113 - acc: 0.9961 - val_loss: 0.0122 - val_acc: 0.9957\n",
      "Epoch 10/10\n",
      "28140/28140 [==============================] - 19s 674us/step - loss: 0.0112 - acc: 0.9962 - val_loss: 0.0122 - val_acc: 0.9958\n",
      "Train on 28140 samples, validate on 13860 samples\n",
      "Epoch 1/10\n",
      "28140/28140 [==============================] - 20s 708us/step - loss: 0.0117 - acc: 0.9961 - val_loss: 0.0120 - val_acc: 0.9957\n",
      "Epoch 2/10\n",
      "28140/28140 [==============================] - 20s 727us/step - loss: 0.0110 - acc: 0.9962 - val_loss: 0.0120 - val_acc: 0.9958\n",
      "Epoch 3/10\n",
      "28140/28140 [==============================] - 19s 661us/step - loss: 0.0107 - acc: 0.9964 - val_loss: 0.0122 - val_acc: 0.9958\n",
      "Epoch 4/10\n",
      "28140/28140 [==============================] - 18s 657us/step - loss: 0.0105 - acc: 0.9962 - val_loss: 0.0121 - val_acc: 0.9957\n",
      "Epoch 5/10\n",
      "28140/28140 [==============================] - 20s 713us/step - loss: 0.0099 - acc: 0.9966 - val_loss: 0.0118 - val_acc: 0.9958\n",
      "Epoch 6/10\n",
      "28140/28140 [==============================] - 19s 662us/step - loss: 0.0103 - acc: 0.9964 - val_loss: 0.0118 - val_acc: 0.9959\n",
      "Epoch 7/10\n",
      "28140/28140 [==============================] - 18s 630us/step - loss: 0.0101 - acc: 0.9965 - val_loss: 0.0116 - val_acc: 0.9960\n",
      "Epoch 8/10\n",
      "28140/28140 [==============================] - 21s 755us/step - loss: 0.0100 - acc: 0.9964 - val_loss: 0.0118 - val_acc: 0.9959\n",
      "Epoch 9/10\n",
      "28140/28140 [==============================] - 18s 650us/step - loss: 0.0099 - acc: 0.9966 - val_loss: 0.0115 - val_acc: 0.9958\n",
      "Epoch 10/10\n",
      "28140/28140 [==============================] - 18s 635us/step - loss: 0.0096 - acc: 0.9968 - val_loss: 0.0114 - val_acc: 0.9959\n",
      "Train on 28140 samples, validate on 13860 samples\n",
      "Epoch 1/10\n",
      "28140/28140 [==============================] - 21s 744us/step - loss: 0.0093 - acc: 0.9968 - val_loss: 0.0114 - val_acc: 0.9960\n",
      "Epoch 2/10\n",
      "28140/28140 [==============================] - 19s 658us/step - loss: 0.0092 - acc: 0.9969 - val_loss: 0.0112 - val_acc: 0.9958\n",
      "Epoch 3/10\n",
      "28140/28140 [==============================] - 18s 643us/step - loss: 0.0090 - acc: 0.9970 - val_loss: 0.0114 - val_acc: 0.9959\n",
      "Epoch 4/10\n",
      "28140/28140 [==============================] - 21s 755us/step - loss: 0.0093 - acc: 0.9967 - val_loss: 0.0112 - val_acc: 0.9959\n",
      "Epoch 5/10\n",
      "28140/28140 [==============================] - 19s 671us/step - loss: 0.0087 - acc: 0.9970 - val_loss: 0.0112 - val_acc: 0.9959\n",
      "Epoch 6/10\n",
      "28140/28140 [==============================] - 18s 645us/step - loss: 0.0086 - acc: 0.9971 - val_loss: 0.0113 - val_acc: 0.9960\n",
      "Epoch 7/10\n",
      "28140/28140 [==============================] - 21s 735us/step - loss: 0.0088 - acc: 0.9969 - val_loss: 0.0111 - val_acc: 0.9960\n",
      "Epoch 8/10\n",
      "28140/28140 [==============================] - 19s 663us/step - loss: 0.0082 - acc: 0.9971 - val_loss: 0.0108 - val_acc: 0.9961\n",
      "Epoch 9/10\n",
      "28140/28140 [==============================] - 18s 638us/step - loss: 0.0082 - acc: 0.9972 - val_loss: 0.0109 - val_acc: 0.9963\n",
      "Epoch 10/10\n",
      "28140/28140 [==============================] - 20s 704us/step - loss: 0.0083 - acc: 0.9971 - val_loss: 0.0109 - val_acc: 0.9962\n"
     ]
    },
    {
     "data": {
      "text/plain": [
       "<keras.callbacks.History at 0x1a7953b0f0>"
      ]
     },
     "execution_count": 200,
     "metadata": {},
     "output_type": "execute_result"
    }
   ],
   "source": [
    "m3.fit(X_train, y_train, validation_data=(X_validate, y_validate), epochs=10)\n",
    "m3.fit(X_train, y_train, validation_data=(X_validate, y_validate), epochs=10)\n",
    "m3.fit(X_train, y_train, validation_data=(X_validate, y_validate), epochs=10)"
   ]
  },
  {
   "cell_type": "code",
   "execution_count": 201,
   "metadata": {},
   "outputs": [
    {
     "name": "stdout",
     "output_type": "stream",
     "text": [
      "Train on 28140 samples, validate on 13860 samples\n",
      "Epoch 1/100\n",
      "28140/28140 [==============================] - 18s 655us/step - loss: 0.0078 - acc: 0.9972 - val_loss: 0.0109 - val_acc: 0.9961\n",
      "Epoch 2/100\n",
      "28140/28140 [==============================] - 18s 625us/step - loss: 0.0078 - acc: 0.9973 - val_loss: 0.0107 - val_acc: 0.9960\n",
      "Epoch 3/100\n",
      "28140/28140 [==============================] - 18s 645us/step - loss: 0.0079 - acc: 0.9972 - val_loss: 0.0113 - val_acc: 0.9960\n",
      "Epoch 4/100\n",
      "28140/28140 [==============================] - 20s 705us/step - loss: 0.0080 - acc: 0.9971 - val_loss: 0.0109 - val_acc: 0.9961\n",
      "Epoch 5/100\n",
      "28140/28140 [==============================] - 18s 634us/step - loss: 0.0080 - acc: 0.9972 - val_loss: 0.0109 - val_acc: 0.9961\n",
      "Epoch 6/100\n",
      "28140/28140 [==============================] - 18s 629us/step - loss: 0.0073 - acc: 0.9975 - val_loss: 0.0107 - val_acc: 0.9962\n",
      "Epoch 7/100\n",
      "28140/28140 [==============================] - 21s 739us/step - loss: 0.0076 - acc: 0.9973 - val_loss: 0.0109 - val_acc: 0.9960\n",
      "Epoch 8/100\n",
      "28140/28140 [==============================] - 18s 636us/step - loss: 0.0071 - acc: 0.9976 - val_loss: 0.0107 - val_acc: 0.9962\n",
      "Epoch 9/100\n",
      "28140/28140 [==============================] - 18s 627us/step - loss: 0.0075 - acc: 0.9974 - val_loss: 0.0107 - val_acc: 0.9962\n",
      "Epoch 10/100\n",
      "28140/28140 [==============================] - 21s 746us/step - loss: 0.0071 - acc: 0.9976 - val_loss: 0.0105 - val_acc: 0.9962\n",
      "Epoch 11/100\n",
      "28140/28140 [==============================] - 18s 642us/step - loss: 0.0072 - acc: 0.9976 - val_loss: 0.0109 - val_acc: 0.9960\n",
      "Epoch 12/100\n",
      "28140/28140 [==============================] - 18s 635us/step - loss: 0.0076 - acc: 0.9974 - val_loss: 0.0104 - val_acc: 0.9963\n",
      "Epoch 13/100\n",
      "28140/28140 [==============================] - 21s 735us/step - loss: 0.0071 - acc: 0.9975 - val_loss: 0.0103 - val_acc: 0.9963\n",
      "Epoch 14/100\n",
      "28140/28140 [==============================] - 19s 666us/step - loss: 0.0070 - acc: 0.9976 - val_loss: 0.0105 - val_acc: 0.9963\n",
      "Epoch 15/100\n",
      "28140/28140 [==============================] - 18s 624us/step - loss: 0.0073 - acc: 0.9974 - val_loss: 0.0103 - val_acc: 0.9965\n",
      "Epoch 16/100\n",
      "28140/28140 [==============================] - 20s 696us/step - loss: 0.0067 - acc: 0.9978 - val_loss: 0.0102 - val_acc: 0.9963\n",
      "Epoch 17/100\n",
      "28140/28140 [==============================] - 19s 678us/step - loss: 0.0067 - acc: 0.9977 - val_loss: 0.0102 - val_acc: 0.9964\n",
      "Epoch 18/100\n",
      "28140/28140 [==============================] - 18s 634us/step - loss: 0.0065 - acc: 0.9978 - val_loss: 0.0105 - val_acc: 0.9964\n",
      "Epoch 19/100\n",
      "28140/28140 [==============================] - 18s 652us/step - loss: 0.0069 - acc: 0.9975 - val_loss: 0.0102 - val_acc: 0.9964\n",
      "Epoch 20/100\n",
      "28140/28140 [==============================] - 20s 704us/step - loss: 0.0068 - acc: 0.9976 - val_loss: 0.0105 - val_acc: 0.9962\n",
      "Epoch 21/100\n",
      "28140/28140 [==============================] - 19s 665us/step - loss: 0.0067 - acc: 0.9977 - val_loss: 0.0104 - val_acc: 0.9963\n",
      "Epoch 22/100\n",
      "28140/28140 [==============================] - 18s 631us/step - loss: 0.0063 - acc: 0.9978 - val_loss: 0.0103 - val_acc: 0.9963\n",
      "Epoch 23/100\n",
      "28140/28140 [==============================] - 21s 744us/step - loss: 0.0064 - acc: 0.9978 - val_loss: 0.0104 - val_acc: 0.9963\n",
      "Epoch 24/100\n",
      "28140/28140 [==============================] - 18s 644us/step - loss: 0.0061 - acc: 0.9979 - val_loss: 0.0104 - val_acc: 0.9963\n",
      "Epoch 25/100\n",
      "28140/28140 [==============================] - 18s 635us/step - loss: 0.0062 - acc: 0.9979 - val_loss: 0.0105 - val_acc: 0.9962\n",
      "Epoch 26/100\n",
      "28140/28140 [==============================] - 22s 772us/step - loss: 0.0061 - acc: 0.9979 - val_loss: 0.0103 - val_acc: 0.9963\n",
      "Epoch 27/100\n",
      "28140/28140 [==============================] - 19s 661us/step - loss: 0.0063 - acc: 0.9978 - val_loss: 0.0102 - val_acc: 0.9964\n",
      "Epoch 28/100\n",
      "28140/28140 [==============================] - 18s 633us/step - loss: 0.0060 - acc: 0.9979 - val_loss: 0.0101 - val_acc: 0.9962\n",
      "Epoch 29/100\n",
      "28140/28140 [==============================] - 21s 740us/step - loss: 0.0055 - acc: 0.9981 - val_loss: 0.0104 - val_acc: 0.9962\n",
      "Epoch 30/100\n",
      "28140/28140 [==============================] - 19s 658us/step - loss: 0.0059 - acc: 0.9981 - val_loss: 0.0102 - val_acc: 0.9963\n",
      "Epoch 31/100\n",
      "28140/28140 [==============================] - 18s 639us/step - loss: 0.0059 - acc: 0.9978 - val_loss: 0.0100 - val_acc: 0.9964\n",
      "Epoch 32/100\n",
      "28140/28140 [==============================] - 21s 729us/step - loss: 0.0058 - acc: 0.9978 - val_loss: 0.0100 - val_acc: 0.9965\n",
      "Epoch 33/100\n",
      "28140/28140 [==============================] - 19s 660us/step - loss: 0.0058 - acc: 0.9979 - val_loss: 0.0102 - val_acc: 0.9963\n",
      "Epoch 34/100\n",
      "28140/28140 [==============================] - 18s 645us/step - loss: 0.0054 - acc: 0.9981 - val_loss: 0.0102 - val_acc: 0.9963\n",
      "Epoch 35/100\n",
      "28140/28140 [==============================] - 20s 709us/step - loss: 0.0051 - acc: 0.9983 - val_loss: 0.0101 - val_acc: 0.9965\n",
      "Epoch 36/100\n",
      "28140/28140 [==============================] - 19s 672us/step - loss: 0.0056 - acc: 0.9981 - val_loss: 0.0103 - val_acc: 0.9966\n",
      "Epoch 37/100\n",
      "28140/28140 [==============================] - 18s 653us/step - loss: 0.0055 - acc: 0.9982 - val_loss: 0.0102 - val_acc: 0.9965\n",
      "Epoch 38/100\n",
      "28140/28140 [==============================] - 19s 687us/step - loss: 0.0055 - acc: 0.9980 - val_loss: 0.0102 - val_acc: 0.9965\n",
      "Epoch 39/100\n",
      "28140/28140 [==============================] - 19s 688us/step - loss: 0.0054 - acc: 0.9980 - val_loss: 0.0099 - val_acc: 0.9967\n",
      "Epoch 40/100\n",
      "28140/28140 [==============================] - 18s 651us/step - loss: 0.0054 - acc: 0.9981 - val_loss: 0.0102 - val_acc: 0.9965\n",
      "Epoch 41/100\n",
      "28140/28140 [==============================] - 19s 663us/step - loss: 0.0053 - acc: 0.9982 - val_loss: 0.0104 - val_acc: 0.9965\n",
      "Epoch 42/100\n",
      "28140/28140 [==============================] - 21s 739us/step - loss: 0.0056 - acc: 0.9982 - val_loss: 0.0104 - val_acc: 0.9965\n",
      "Epoch 43/100\n",
      "28140/28140 [==============================] - 18s 650us/step - loss: 0.0054 - acc: 0.9981 - val_loss: 0.0104 - val_acc: 0.9964\n",
      "Epoch 44/100\n",
      "28140/28140 [==============================] - 18s 649us/step - loss: 0.0053 - acc: 0.9982 - val_loss: 0.0100 - val_acc: 0.9966\n",
      "Epoch 45/100\n",
      "28140/28140 [==============================] - 21s 754us/step - loss: 0.0048 - acc: 0.9984 - val_loss: 0.0101 - val_acc: 0.9965\n",
      "Epoch 46/100\n",
      "28140/28140 [==============================] - 18s 651us/step - loss: 0.0055 - acc: 0.9982 - val_loss: 0.0104 - val_acc: 0.9966\n",
      "Epoch 47/100\n",
      "28140/28140 [==============================] - 18s 644us/step - loss: 0.0053 - acc: 0.9981 - val_loss: 0.0102 - val_acc: 0.9965\n",
      "Epoch 48/100\n",
      "28140/28140 [==============================] - 21s 738us/step - loss: 0.0050 - acc: 0.9982 - val_loss: 0.0102 - val_acc: 0.9963\n",
      "Epoch 49/100\n",
      "28140/28140 [==============================] - 18s 656us/step - loss: 0.0050 - acc: 0.9983 - val_loss: 0.0101 - val_acc: 0.9965\n",
      "Epoch 50/100\n",
      "28140/28140 [==============================] - 18s 636us/step - loss: 0.0050 - acc: 0.9983 - val_loss: 0.0100 - val_acc: 0.9964\n",
      "Epoch 51/100\n",
      "28140/28140 [==============================] - 20s 723us/step - loss: 0.0047 - acc: 0.9984 - val_loss: 0.0100 - val_acc: 0.9965\n",
      "Epoch 52/100\n",
      "28140/28140 [==============================] - 19s 660us/step - loss: 0.0051 - acc: 0.9982 - val_loss: 0.0099 - val_acc: 0.9965\n",
      "Epoch 53/100\n",
      "28140/28140 [==============================] - 18s 657us/step - loss: 0.0057 - acc: 0.9979 - val_loss: 0.0101 - val_acc: 0.9964\n",
      "Epoch 54/100\n",
      "28140/28140 [==============================] - 20s 723us/step - loss: 0.0048 - acc: 0.9983 - val_loss: 0.0102 - val_acc: 0.9964\n",
      "Epoch 55/100\n",
      "28140/28140 [==============================] - 19s 662us/step - loss: 0.0051 - acc: 0.9983 - val_loss: 0.0101 - val_acc: 0.9965\n",
      "Epoch 56/100\n",
      "28140/28140 [==============================] - 18s 649us/step - loss: 0.0048 - acc: 0.9983 - val_loss: 0.0102 - val_acc: 0.9964\n",
      "Epoch 57/100\n",
      "28140/28140 [==============================] - 20s 713us/step - loss: 0.0045 - acc: 0.9984 - val_loss: 0.0101 - val_acc: 0.9963\n",
      "Epoch 58/100\n",
      "28140/28140 [==============================] - 19s 670us/step - loss: 0.0047 - acc: 0.9984 - val_loss: 0.0104 - val_acc: 0.9963\n"
     ]
    },
    {
     "name": "stdout",
     "output_type": "stream",
     "text": [
      "Epoch 59/100\n",
      "28140/28140 [==============================] - 17s 609us/step - loss: 0.0043 - acc: 0.9986 - val_loss: 0.0102 - val_acc: 0.9964\n",
      "Epoch 60/100\n",
      "28140/28140 [==============================] - 17s 621us/step - loss: 0.0043 - acc: 0.9985 - val_loss: 0.0103 - val_acc: 0.9964\n",
      "Epoch 61/100\n",
      "28140/28140 [==============================] - 19s 692us/step - loss: 0.0044 - acc: 0.9985 - val_loss: 0.0101 - val_acc: 0.9964\n",
      "Epoch 62/100\n",
      "28140/28140 [==============================] - 18s 622us/step - loss: 0.0051 - acc: 0.9982 - val_loss: 0.0098 - val_acc: 0.9966\n",
      "Epoch 63/100\n",
      "28140/28140 [==============================] - 17s 609us/step - loss: 0.0046 - acc: 0.9983 - val_loss: 0.0101 - val_acc: 0.9965\n",
      "Epoch 64/100\n",
      "28140/28140 [==============================] - 20s 711us/step - loss: 0.0046 - acc: 0.9983 - val_loss: 0.0101 - val_acc: 0.9966\n",
      "Epoch 65/100\n",
      "28140/28140 [==============================] - 17s 619us/step - loss: 0.0045 - acc: 0.9984 - val_loss: 0.0098 - val_acc: 0.9966\n",
      "Epoch 66/100\n",
      "28140/28140 [==============================] - 17s 608us/step - loss: 0.0048 - acc: 0.9983 - val_loss: 0.0102 - val_acc: 0.9966\n",
      "Epoch 67/100\n",
      "28140/28140 [==============================] - 20s 694us/step - loss: 0.0046 - acc: 0.9984 - val_loss: 0.0099 - val_acc: 0.9965\n",
      "Epoch 68/100\n",
      "28140/28140 [==============================] - 18s 632us/step - loss: 0.0044 - acc: 0.9985 - val_loss: 0.0099 - val_acc: 0.9966\n",
      "Epoch 69/100\n",
      "28140/28140 [==============================] - 17s 619us/step - loss: 0.0048 - acc: 0.9983 - val_loss: 0.0100 - val_acc: 0.9966\n",
      "Epoch 70/100\n",
      "28140/28140 [==============================] - 18s 649us/step - loss: 0.0042 - acc: 0.9985 - val_loss: 0.0103 - val_acc: 0.9965\n",
      "Epoch 71/100\n",
      "28140/28140 [==============================] - 19s 688us/step - loss: 0.0046 - acc: 0.9984 - val_loss: 0.0099 - val_acc: 0.9965\n",
      "Epoch 72/100\n",
      "28140/28140 [==============================] - 17s 619us/step - loss: 0.0042 - acc: 0.9986 - val_loss: 0.0100 - val_acc: 0.9965\n",
      "Epoch 73/100\n",
      "28140/28140 [==============================] - 17s 615us/step - loss: 0.0044 - acc: 0.9985 - val_loss: 0.0098 - val_acc: 0.9966\n",
      "Epoch 74/100\n",
      "28140/28140 [==============================] - 20s 715us/step - loss: 0.0044 - acc: 0.9984 - val_loss: 0.0099 - val_acc: 0.9965\n",
      "Epoch 75/100\n",
      "28140/28140 [==============================] - 18s 639us/step - loss: 0.0040 - acc: 0.9987 - val_loss: 0.0099 - val_acc: 0.9967\n",
      "Epoch 76/100\n",
      "28140/28140 [==============================] - 17s 617us/step - loss: 0.0044 - acc: 0.9985 - val_loss: 0.0098 - val_acc: 0.9966\n",
      "Epoch 77/100\n",
      "28140/28140 [==============================] - 20s 717us/step - loss: 0.0043 - acc: 0.9985 - val_loss: 0.0101 - val_acc: 0.9966\n",
      "Epoch 78/100\n",
      "28140/28140 [==============================] - 18s 633us/step - loss: 0.0043 - acc: 0.9985 - val_loss: 0.0101 - val_acc: 0.9967\n",
      "Epoch 79/100\n",
      "28140/28140 [==============================] - 17s 616us/step - loss: 0.0039 - acc: 0.9987 - val_loss: 0.0098 - val_acc: 0.9966\n",
      "Epoch 80/100\n",
      "28140/28140 [==============================] - 19s 674us/step - loss: 0.0042 - acc: 0.9986 - val_loss: 0.0099 - val_acc: 0.9967\n",
      "Epoch 81/100\n",
      "28140/28140 [==============================] - 19s 663us/step - loss: 0.0041 - acc: 0.9986 - val_loss: 0.0098 - val_acc: 0.9966\n",
      "Epoch 82/100\n",
      "28140/28140 [==============================] - 17s 619us/step - loss: 0.0042 - acc: 0.9984 - val_loss: 0.0095 - val_acc: 0.9968\n",
      "Epoch 83/100\n",
      "28140/28140 [==============================] - 18s 640us/step - loss: 0.0039 - acc: 0.9987 - val_loss: 0.0098 - val_acc: 0.9969\n",
      "Epoch 84/100\n",
      "28140/28140 [==============================] - 20s 703us/step - loss: 0.0040 - acc: 0.9986 - val_loss: 0.0096 - val_acc: 0.9967\n",
      "Epoch 85/100\n",
      "28140/28140 [==============================] - 18s 631us/step - loss: 0.0045 - acc: 0.9985 - val_loss: 0.0097 - val_acc: 0.9967\n",
      "Epoch 86/100\n",
      "28140/28140 [==============================] - 17s 620us/step - loss: 0.0039 - acc: 0.9986 - val_loss: 0.0097 - val_acc: 0.9967\n",
      "Epoch 87/100\n",
      "28140/28140 [==============================] - 20s 719us/step - loss: 0.0039 - acc: 0.9986 - val_loss: 0.0100 - val_acc: 0.9966\n",
      "Epoch 88/100\n",
      "28140/28140 [==============================] - 18s 624us/step - loss: 0.0040 - acc: 0.9986 - val_loss: 0.0098 - val_acc: 0.9967\n",
      "Epoch 89/100\n",
      "28140/28140 [==============================] - 17s 616us/step - loss: 0.0037 - acc: 0.9987 - val_loss: 0.0099 - val_acc: 0.9967\n",
      "Epoch 90/100\n",
      "28140/28140 [==============================] - 20s 721us/step - loss: 0.0039 - acc: 0.9987 - val_loss: 0.0101 - val_acc: 0.9966\n",
      "Epoch 91/100\n",
      "28140/28140 [==============================] - 18s 648us/step - loss: 0.0041 - acc: 0.9985 - val_loss: 0.0095 - val_acc: 0.9967\n",
      "Epoch 92/100\n",
      "28140/28140 [==============================] - 18s 626us/step - loss: 0.0037 - acc: 0.9987 - val_loss: 0.0097 - val_acc: 0.9967\n",
      "Epoch 93/100\n",
      "28140/28140 [==============================] - 19s 688us/step - loss: 0.0040 - acc: 0.9986 - val_loss: 0.0099 - val_acc: 0.9967\n",
      "Epoch 94/100\n",
      "28140/28140 [==============================] - 19s 662us/step - loss: 0.0039 - acc: 0.9986 - val_loss: 0.0100 - val_acc: 0.9967\n",
      "Epoch 95/100\n",
      "28140/28140 [==============================] - 18s 641us/step - loss: 0.0036 - acc: 0.9988 - val_loss: 0.0098 - val_acc: 0.9967\n",
      "Epoch 96/100\n",
      "28140/28140 [==============================] - 18s 651us/step - loss: 0.0040 - acc: 0.9986 - val_loss: 0.0097 - val_acc: 0.9967\n",
      "Epoch 97/100\n",
      "28140/28140 [==============================] - 20s 699us/step - loss: 0.0033 - acc: 0.9989 - val_loss: 0.0099 - val_acc: 0.9967\n",
      "Epoch 98/100\n",
      "28140/28140 [==============================] - 18s 645us/step - loss: 0.0038 - acc: 0.9987 - val_loss: 0.0099 - val_acc: 0.9967\n",
      "Epoch 99/100\n",
      "28140/28140 [==============================] - 18s 630us/step - loss: 0.0039 - acc: 0.9986 - val_loss: 0.0099 - val_acc: 0.9969\n",
      "Epoch 100/100\n",
      "28140/28140 [==============================] - 21s 734us/step - loss: 0.0040 - acc: 0.9986 - val_loss: 0.0098 - val_acc: 0.9968\n"
     ]
    },
    {
     "data": {
      "text/plain": [
       "<keras.callbacks.History at 0x1a7953aa90>"
      ]
     },
     "execution_count": 201,
     "metadata": {},
     "output_type": "execute_result"
    }
   ],
   "source": [
    "m3.fit(X_train, y_train, validation_data=(X_validate, y_validate), epochs=100)"
   ]
  },
  {
   "cell_type": "markdown",
   "metadata": {},
   "source": [
    "## Evaluate models side by side"
   ]
  },
  {
   "cell_type": "code",
   "execution_count": 202,
   "metadata": {},
   "outputs": [
    {
     "name": "stdout",
     "output_type": "stream",
     "text": [
      "M1 training\n",
      "28140/28140 [==============================] - 7s 239us/step\n",
      "[0.0036899096275523884, 0.99886993246885081]\n",
      "M1 validate\n",
      "13860/13860 [==============================] - 3s 195us/step\n",
      "[0.0033587429418482566, 0.99898989596236143]\n",
      "M2 training\n",
      "28140/28140 [==============================] - 5s 189us/step\n",
      "[0.035353320142268795, 0.98959488512864757]\n",
      "M2 validate\n",
      "13860/13860 [==============================] - 3s 196us/step\n",
      "[0.036786763788258701, 0.98877345122300186]\n",
      "M3 training\n",
      "28140/28140 [==============================] - 6s 220us/step\n",
      "[0.00050096350134291282, 0.9999538022402592]\n",
      "M3 validate\n",
      "13860/13860 [==============================] - 3s 194us/step\n",
      "[0.0098465569520526947, 0.99678931642232349]\n"
     ]
    }
   ],
   "source": [
    "print(\"M1 training\")\n",
    "print(m1.evaluate(X_train, y_train))\n",
    "print(\"M1 validate\")\n",
    "print(m1.evaluate(X_validate, y_validate))\n",
    "\n",
    "print(\"M2 training\")\n",
    "print(m2.evaluate(X_train, y_train))\n",
    "print(\"M2 validate\")\n",
    "print(m2.evaluate(X_validate, y_validate))\n",
    "\n",
    "print(\"M3 training\")\n",
    "print(m3.evaluate(X_train, y_train))\n",
    "print(\"M3 validate\")\n",
    "print(m3.evaluate(X_validate, y_validate))\n"
   ]
  },
  {
   "cell_type": "markdown",
   "metadata": {},
   "source": [
    "## Generate Test Predictions"
   ]
  },
  {
   "cell_type": "code",
   "execution_count": 203,
   "metadata": {},
   "outputs": [
    {
     "data": {
      "text/html": [
       "<div>\n",
       "<style>\n",
       "    .dataframe thead tr:only-child th {\n",
       "        text-align: right;\n",
       "    }\n",
       "\n",
       "    .dataframe thead th {\n",
       "        text-align: left;\n",
       "    }\n",
       "\n",
       "    .dataframe tbody tr th {\n",
       "        vertical-align: top;\n",
       "    }\n",
       "</style>\n",
       "<table border=\"1\" class=\"dataframe\">\n",
       "  <thead>\n",
       "    <tr style=\"text-align: right;\">\n",
       "      <th></th>\n",
       "      <th>ImageId</th>\n",
       "      <th>Label</th>\n",
       "    </tr>\n",
       "  </thead>\n",
       "  <tbody>\n",
       "    <tr>\n",
       "      <th>0</th>\n",
       "      <td>1</td>\n",
       "      <td>2</td>\n",
       "    </tr>\n",
       "    <tr>\n",
       "      <th>1</th>\n",
       "      <td>2</td>\n",
       "      <td>0</td>\n",
       "    </tr>\n",
       "    <tr>\n",
       "      <th>2</th>\n",
       "      <td>3</td>\n",
       "      <td>9</td>\n",
       "    </tr>\n",
       "    <tr>\n",
       "      <th>3</th>\n",
       "      <td>4</td>\n",
       "      <td>2</td>\n",
       "    </tr>\n",
       "    <tr>\n",
       "      <th>4</th>\n",
       "      <td>5</td>\n",
       "      <td>3</td>\n",
       "    </tr>\n",
       "  </tbody>\n",
       "</table>\n",
       "</div>"
      ],
      "text/plain": [
       "   ImageId  Label\n",
       "0        1      2\n",
       "1        2      0\n",
       "2        3      9\n",
       "3        4      2\n",
       "4        5      3"
      ]
     },
     "execution_count": 203,
     "metadata": {},
     "output_type": "execute_result"
    }
   ],
   "source": [
    "a = m3.predict(x_test)\n",
    "from numpy import argmax\n",
    "rounded = np.round(a)\n",
    "answers = {}\n",
    "for counter, pred in enumerate(rounded):\n",
    "    k = counter + 1\n",
    "    answers[k] = [k, argmax(pred)]\n",
    "\n",
    "df = pd.DataFrame.from_dict(data=answers, orient='index')\n",
    "df.to_csv('dict_file_m3.csv', header=['ImageId', 'Label'], index=False)\n",
    "output = pd.read_csv('dict_file.csv')\n",
    "output.head()"
   ]
  },
  {
   "cell_type": "markdown",
   "metadata": {},
   "source": [
    "# "
   ]
  },
  {
   "cell_type": "code",
   "execution_count": null,
   "metadata": {
    "collapsed": true
   },
   "outputs": [],
   "source": []
  },
  {
   "cell_type": "code",
   "execution_count": null,
   "metadata": {},
   "outputs": [],
   "source": []
  },
  {
   "cell_type": "code",
   "execution_count": null,
   "metadata": {
    "collapsed": true
   },
   "outputs": [],
   "source": []
  },
  {
   "cell_type": "code",
   "execution_count": null,
   "metadata": {
    "collapsed": true
   },
   "outputs": [],
   "source": []
  }
 ],
 "metadata": {
  "kernelspec": {
   "display_name": "Python 3",
   "language": "python",
   "name": "python3"
  },
  "language_info": {
   "codemirror_mode": {
    "name": "ipython",
    "version": 3
   },
   "file_extension": ".py",
   "mimetype": "text/x-python",
   "name": "python",
   "nbconvert_exporter": "python",
   "pygments_lexer": "ipython3",
   "version": "3.6.3"
  }
 },
 "nbformat": 4,
 "nbformat_minor": 2
}
