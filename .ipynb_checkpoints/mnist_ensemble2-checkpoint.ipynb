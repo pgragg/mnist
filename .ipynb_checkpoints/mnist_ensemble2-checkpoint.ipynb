{
 "cells": [
  {
   "cell_type": "code",
   "execution_count": 333,
   "metadata": {},
   "outputs": [],
   "source": [
    "import keras\n",
    "import numpy as np\n",
    "import matplotlib as plt \n",
    "\n",
    "from keras.layers import Dense, Dropout, BatchNormalization, Convolution1D, Flatten, Lambda, Permute, MaxPooling1D, AlphaDropout\n",
    "from keras.models import Sequential\n",
    "from keras.utils import to_categorical\n",
    "import keras.backend as K"
   ]
  },
  {
   "cell_type": "code",
   "execution_count": 7,
   "metadata": {},
   "outputs": [],
   "source": [
    "(a,b) = keras.datasets.mnist.load_data()"
   ]
  },
  {
   "cell_type": "code",
   "execution_count": 15,
   "metadata": {},
   "outputs": [],
   "source": [
    "x_train = a[0]\n",
    "y_train = to_categorical(a[1])\n",
    "\n",
    "x_test = b[0]\n",
    "y_test = to_categorical(b[1])"
   ]
  },
  {
   "cell_type": "code",
   "execution_count": 165,
   "metadata": {},
   "outputs": [],
   "source": [
    "m1 = Sequential([\n",
    "    Permute((2,1), input_shape=(28,28)),\n",
    "    BatchNormalization(),\n",
    "    Convolution1D(32, (3), activation='relu', padding='same'),\n",
    "    Dropout(0.1),\n",
    "    MaxPooling1D(2),\n",
    "    BatchNormalization(),\n",
    "    Convolution1D(64, (3), activation='relu', padding='same'),\n",
    "    Dropout(0.1),\n",
    "    MaxPooling1D(2),\n",
    "    Flatten(),\n",
    "    BatchNormalization(),\n",
    "    Dense(20, activation='relu'),\n",
    "    BatchNormalization(),\n",
    "    Dense(10, activation='softmax')   \n",
    "])\n",
    "\n",
    "m1.compile(optimizer='adam', loss='binary_crossentropy', metrics=['accuracy'])"
   ]
  },
  {
   "cell_type": "code",
   "execution_count": 166,
   "metadata": {},
   "outputs": [
    {
     "name": "stdout",
     "output_type": "stream",
     "text": [
      "Epoch 1/1\n",
      "60000/60000 [==============================] - 36s 598us/step - loss: 0.0527 - acc: 0.9823\n"
     ]
    },
    {
     "data": {
      "text/plain": [
       "<keras.callbacks.History at 0x12a303828>"
      ]
     },
     "execution_count": 166,
     "metadata": {},
     "output_type": "execute_result"
    }
   ],
   "source": [
    "m1.fit(x_train, y_train, epochs=10)"
   ]
  },
  {
   "cell_type": "code",
   "execution_count": 172,
   "metadata": {
    "collapsed": true
   },
   "outputs": [],
   "source": [
    "m1.optimizer.lr = 0.00001"
   ]
  },
  {
   "cell_type": "code",
   "execution_count": 173,
   "metadata": {},
   "outputs": [
    {
     "name": "stdout",
     "output_type": "stream",
     "text": [
      "Epoch 1/10\n",
      "60000/60000 [==============================] - 35s 589us/step - loss: 0.0095 - acc: 0.9967\n",
      "Epoch 2/10\n",
      "60000/60000 [==============================] - 34s 574us/step - loss: 0.0090 - acc: 0.9969\n",
      "Epoch 3/10\n",
      "60000/60000 [==============================] - 38s 632us/step - loss: 0.0088 - acc: 0.9969\n",
      "Epoch 4/10\n",
      "60000/60000 [==============================] - 37s 610us/step - loss: 0.0085 - acc: 0.9971\n",
      "Epoch 5/10\n",
      "60000/60000 [==============================] - 33s 553us/step - loss: 0.0082 - acc: 0.9971\n",
      "Epoch 6/10\n",
      "60000/60000 [==============================] - 35s 589us/step - loss: 0.0080 - acc: 0.9971\n",
      "Epoch 7/10\n",
      "60000/60000 [==============================] - 33s 546us/step - loss: 0.0080 - acc: 0.9972\n",
      "Epoch 8/10\n",
      "60000/60000 [==============================] - 34s 568us/step - loss: 0.0079 - acc: 0.9973\n",
      "Epoch 9/10\n",
      "60000/60000 [==============================] - 34s 563us/step - loss: 0.0074 - acc: 0.9974\n",
      "Epoch 10/10\n",
      "60000/60000 [==============================] - 37s 611us/step - loss: 0.0075 - acc: 0.9974\n"
     ]
    },
    {
     "data": {
      "text/plain": [
       "<keras.callbacks.History at 0x12abc1e10>"
      ]
     },
     "execution_count": 173,
     "metadata": {},
     "output_type": "execute_result"
    }
   ],
   "source": [
    "m1.fit(x_train, y_train, epochs=10)"
   ]
  },
  {
   "cell_type": "code",
   "execution_count": 178,
   "metadata": {},
   "outputs": [
    {
     "name": "stdout",
     "output_type": "stream",
     "text": [
      "10000/10000 [==============================] - 2s 214us/step\n"
     ]
    },
    {
     "data": {
      "text/plain": [
       "[0.0073353876278793905, 0.99753999576568608]"
      ]
     },
     "execution_count": 178,
     "metadata": {},
     "output_type": "execute_result"
    }
   ],
   "source": [
    "m1.evaluate(x_test, y_test)\n"
   ]
  },
  {
   "cell_type": "code",
   "execution_count": 179,
   "metadata": {},
   "outputs": [],
   "source": [
    "# from keras.models import load_model\n",
    "\n",
    "# m1.save_weights('m1_mnist_ensemble2.h5')"
   ]
  },
  {
   "cell_type": "code",
   "execution_count": 180,
   "metadata": {},
   "outputs": [],
   "source": [
    "m2 = Sequential([\n",
    "    BatchNormalization(input_shape=(28,28)),\n",
    "    Convolution1D(32, (3), activation='relu', padding='same'),\n",
    "    Dropout(0.1),\n",
    "    MaxPooling1D(2),\n",
    "    BatchNormalization(),\n",
    "    Convolution1D(64, (3), activation='relu', padding='same'),\n",
    "    Dropout(0.1),\n",
    "    MaxPooling1D(2),\n",
    "    Flatten(),\n",
    "    BatchNormalization(),\n",
    "    Dense(20, activation='relu'),\n",
    "    BatchNormalization(),\n",
    "    Dense(10, activation='softmax')   \n",
    "])\n",
    "\n",
    "m2.compile(optimizer='adam', loss='binary_crossentropy', metrics=['accuracy'])"
   ]
  },
  {
   "cell_type": "code",
   "execution_count": 181,
   "metadata": {},
   "outputs": [
    {
     "name": "stdout",
     "output_type": "stream",
     "text": [
      "Epoch 1/10\n",
      "60000/60000 [==============================] - 33s 557us/step - loss: 0.0485 - acc: 0.9838\n",
      "Epoch 2/10\n",
      "60000/60000 [==============================] - 36s 595us/step - loss: 0.0184 - acc: 0.9938\n",
      "Epoch 3/10\n",
      "60000/60000 [==============================] - 32s 529us/step - loss: 0.0146 - acc: 0.9950\n",
      "Epoch 4/10\n",
      "60000/60000 [==============================] - 36s 596us/step - loss: 0.0123 - acc: 0.9958\n",
      "Epoch 5/10\n",
      "60000/60000 [==============================] - 31s 521us/step - loss: 0.0114 - acc: 0.9961\n",
      "Epoch 6/10\n",
      "60000/60000 [==============================] - 34s 569us/step - loss: 0.0103 - acc: 0.9965\n",
      "Epoch 7/10\n",
      "60000/60000 [==============================] - 35s 588us/step - loss: 0.0095 - acc: 0.9967\n",
      "Epoch 8/10\n",
      "60000/60000 [==============================] - 36s 599us/step - loss: 0.0091 - acc: 0.9969\n",
      "Epoch 9/10\n",
      "60000/60000 [==============================] - 35s 582us/step - loss: 0.0086 - acc: 0.9972\n",
      "Epoch 10/10\n",
      "60000/60000 [==============================] - 35s 579us/step - loss: 0.0084 - acc: 0.9971\n",
      "Epoch 1/10\n",
      "60000/60000 [==============================] - 36s 604us/step - loss: 0.0080 - acc: 0.9972\n",
      "Epoch 2/10\n",
      "60000/60000 [==============================] - 32s 526us/step - loss: 0.0070 - acc: 0.9976\n",
      "Epoch 3/10\n",
      "60000/60000 [==============================] - 37s 609us/step - loss: 0.0073 - acc: 0.9974\n",
      "Epoch 4/10\n",
      "60000/60000 [==============================] - 34s 569us/step - loss: 0.0069 - acc: 0.99761s - loss: 0\n",
      "Epoch 5/10\n",
      "60000/60000 [==============================] - 30s 501us/step - loss: 0.0068 - acc: 0.9976\n",
      "Epoch 6/10\n",
      "60000/60000 [==============================] - 33s 542us/step - loss: 0.0065 - acc: 0.9977\n",
      "Epoch 7/10\n",
      "60000/60000 [==============================] - 32s 527us/step - loss: 0.0065 - acc: 0.9978\n",
      "Epoch 8/10\n",
      "60000/60000 [==============================] - 31s 518us/step - loss: 0.0061 - acc: 0.9979\n",
      "Epoch 9/10\n",
      "60000/60000 [==============================] - 30s 501us/step - loss: 0.0058 - acc: 0.9980\n",
      "Epoch 10/10\n",
      "60000/60000 [==============================] - 34s 563us/step - loss: 0.0059 - acc: 0.9980\n",
      "10000/10000 [==============================] - ETA:  - 2s 211us/step\n"
     ]
    },
    {
     "data": {
      "text/plain": [
       "[0.0067760217707051196, 0.99789999694824216]"
      ]
     },
     "execution_count": 181,
     "metadata": {},
     "output_type": "execute_result"
    }
   ],
   "source": [
    "m2.fit(x_train, y_train, epochs=10)\n",
    "m2.optimizer.lr = 0.00001\n",
    "m2.fit(x_train, y_train, epochs=10)\n",
    "m2.evaluate(x_test, y_test)"
   ]
  },
  {
   "cell_type": "markdown",
   "metadata": {},
   "source": [
    "## Create ensemble data"
   ]
  },
  {
   "cell_type": "code",
   "execution_count": 245,
   "metadata": {
    "collapsed": true
   },
   "outputs": [],
   "source": [
    "# Training\n",
    "m1_pred = m1.predict(x_train)\n",
    "m2_pred = m2.predict(x_train)\n",
    "ens_data = np.array([m1_pred, m2_pred])\n",
    "ens_data = np.swapaxes(ens_data, 0, 1)\n",
    "ens_data = np.swapaxes(ens_data, 1, 2)\n",
    "\n",
    "# Testing\n",
    "test_m1_pred = m1.predict(x_test)\n",
    "test_m2_pred = m2.predict(x_test)\n",
    "test_ens_data = np.array([test_m1_pred, test_m2_pred])\n",
    "test_ens_data = np.swapaxes(test_ens_data, 0, 1)\n",
    "test_ens_data = np.swapaxes(test_ens_data, 1, 2)"
   ]
  },
  {
   "cell_type": "code",
   "execution_count": 323,
   "metadata": {},
   "outputs": [
    {
     "name": "stdout",
     "output_type": "stream",
     "text": [
      "(10000, 10, 2)\n",
      "(60000, 10, 2)\n"
     ]
    }
   ],
   "source": [
    "print(test_ens_data.shape)\n",
    "print(ens_data.shape)\n",
    "ens_data = np.round(ens_data)\n",
    "test_ens_data = np.round(test_ens_data)"
   ]
  },
  {
   "cell_type": "code",
   "execution_count": 355,
   "metadata": {},
   "outputs": [
    {
     "name": "stdout",
     "output_type": "stream",
     "text": [
      "10000/10000 [==============================] - 2s 216us/step\n",
      "[0.0073353876278793905, 0.99753999576568608]\n",
      "10000/10000 [==============================] - 2s 209us/step\n",
      "[0.0067760217707051196, 0.99789999694824216]\n"
     ]
    }
   ],
   "source": [
    "print(m1.evaluate(x_test, y_test))\n",
    "print(m2.evaluate(x_test, y_test))"
   ]
  },
  {
   "cell_type": "markdown",
   "metadata": {},
   "source": [
    "## Create ensemble model"
   ]
  },
  {
   "cell_type": "code",
   "execution_count": 362,
   "metadata": {},
   "outputs": [],
   "source": [
    "e1 = Sequential([\n",
    "    Flatten(input_shape=(10,2)),\n",
    "    AlphaDropout(0.8),\n",
    "    Dense(10, activation='softmax'),\n",
    "])\n",
    "\n",
    "e1.compile(optimizer='adam', loss='categorical_crossentropy', metrics=['accuracy'])\n"
   ]
  },
  {
   "cell_type": "markdown",
   "metadata": {},
   "source": [
    "## Train ensemble model"
   ]
  },
  {
   "cell_type": "code",
   "execution_count": null,
   "metadata": {},
   "outputs": [
    {
     "name": "stdout",
     "output_type": "stream",
     "text": [
      "Train on 60000 samples, validate on 10000 samples\n",
      "Epoch 1/4\n",
      "53696/60000 [=========================>....] - ETA: 1s - loss: 2.3494 - acc: 0.1707"
     ]
    }
   ],
   "source": [
    "e1.fit(ens_data, y_train,epochs=4, validation_data=(test_ens_data, y_test))\n",
    "e1.optimizer.lr = 0.00001\n",
    "e1.fit(ens_data, y_train,epochs=10, validation_data=(test_ens_data, y_test))\n"
   ]
  },
  {
   "cell_type": "code",
   "execution_count": 351,
   "metadata": {},
   "outputs": [
    {
     "name": "stdout",
     "output_type": "stream",
     "text": [
      "10000/10000 [==============================] - 1s 61us/step\n"
     ]
    },
    {
     "data": {
      "text/plain": [
       "[0.12752548183202744, 0.98909999999999998]"
      ]
     },
     "execution_count": 351,
     "metadata": {},
     "output_type": "execute_result"
    }
   ],
   "source": [
    "e1.evaluate(test_ens_data, y_test)"
   ]
  },
  {
   "cell_type": "code",
   "execution_count": 282,
   "metadata": {},
   "outputs": [
    {
     "name": "stdout",
     "output_type": "stream",
     "text": [
      "10000/10000 [==============================] - 2s 218us/step\n"
     ]
    },
    {
     "data": {
      "text/plain": [
       "[0.0073353876278793905, 0.99753999576568608]"
      ]
     },
     "execution_count": 282,
     "metadata": {},
     "output_type": "execute_result"
    }
   ],
   "source": []
  },
  {
   "cell_type": "code",
   "execution_count": 283,
   "metadata": {},
   "outputs": [
    {
     "name": "stdout",
     "output_type": "stream",
     "text": [
      "10000/10000 [==============================] - 2s 196us/step\n"
     ]
    },
    {
     "data": {
      "text/plain": [
       "[0.0067760217707051196, 0.99789999694824216]"
      ]
     },
     "execution_count": 283,
     "metadata": {},
     "output_type": "execute_result"
    }
   ],
   "source": []
  },
  {
   "cell_type": "code",
   "execution_count": null,
   "metadata": {
    "collapsed": true
   },
   "outputs": [],
   "source": []
  }
 ],
 "metadata": {
  "kernelspec": {
   "display_name": "Python 3",
   "language": "python",
   "name": "python3"
  },
  "language_info": {
   "codemirror_mode": {
    "name": "ipython",
    "version": 3
   },
   "file_extension": ".py",
   "mimetype": "text/x-python",
   "name": "python",
   "nbconvert_exporter": "python",
   "pygments_lexer": "ipython3",
   "version": "3.6.3"
  }
 },
 "nbformat": 4,
 "nbformat_minor": 2
}
